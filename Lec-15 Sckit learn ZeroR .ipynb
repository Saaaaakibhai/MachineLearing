{
 "cells": [
  {
   "cell_type": "markdown",
   "id": "4c4c2760",
   "metadata": {},
   "source": [
    "# Introduction to scikit-learn | Baseline Classifiers\n",
    "\n",
    "\n",
    "🤖 `Notebook by` [S. M. Mahedi Hasan](https://www.linkedin.com/in/s-m-mahedi-hasan-09a8452ab/)\n",
    "\n",
    "✅ `Machine Learning Source Codes` [GitHub](https://github.com/Saaaaakibhai/MachineLearing)\n",
    "\n",
    "📌 `Machine Learning from Scratch` [Course Outline](https://docs.google.com/document/d/15mGNTUSlWQsy4TzcLZUdYedpCMO5KiVq1USaDprHaIc/edit?usp=sharing)\n",
    "\n",
    "📌 `Related` [PPTX Slide](https://docs.google.com/presentation/d/1gir8tFBx8T4ZXhNtN4HHZ2-o6kxG1qg_/edit#slide=id.p1)"
   ]
  },
  {
   "cell_type": "markdown",
   "id": "55edcfe3",
   "metadata": {},
   "source": [
    "## ZeroR Classifier \n",
    "\n",
    "Read scikit-learn [documentation](https://scikit-learn.org/stable/modules/generated/sklearn.dummy.DummyClassifier.html)"
   ]
  },
  {
   "cell_type": "markdown",
   "id": "130a5a9b",
   "metadata": {},
   "source": [
    "## Load Libraries"
   ]
  },
  {
   "cell_type": "code",
   "execution_count": 2,
   "id": "81f23a71",
   "metadata": {},
   "outputs": [],
   "source": [
    "import numpy as np\n",
    "import pandas as pd"
   ]
  },
  {
   "cell_type": "code",
   "execution_count": 3,
   "id": "adc469b2",
   "metadata": {},
   "outputs": [
    {
     "data": {
      "text/html": [
       "<div>\n",
       "<style scoped>\n",
       "    .dataframe tbody tr th:only-of-type {\n",
       "        vertical-align: middle;\n",
       "    }\n",
       "\n",
       "    .dataframe tbody tr th {\n",
       "        vertical-align: top;\n",
       "    }\n",
       "\n",
       "    .dataframe thead th {\n",
       "        text-align: right;\n",
       "    }\n",
       "</style>\n",
       "<table border=\"1\" class=\"dataframe\">\n",
       "  <thead>\n",
       "    <tr style=\"text-align: right;\">\n",
       "      <th></th>\n",
       "      <th>Outlook</th>\n",
       "      <th>Temp</th>\n",
       "      <th>Humidity</th>\n",
       "      <th>Windy</th>\n",
       "      <th>Play Golf</th>\n",
       "    </tr>\n",
       "  </thead>\n",
       "  <tbody>\n",
       "    <tr>\n",
       "      <th>0</th>\n",
       "      <td>Rainy</td>\n",
       "      <td>Hot</td>\n",
       "      <td>High</td>\n",
       "      <td>False</td>\n",
       "      <td>No</td>\n",
       "    </tr>\n",
       "    <tr>\n",
       "      <th>1</th>\n",
       "      <td>Rainy</td>\n",
       "      <td>Hot</td>\n",
       "      <td>High</td>\n",
       "      <td>True</td>\n",
       "      <td>No</td>\n",
       "    </tr>\n",
       "    <tr>\n",
       "      <th>2</th>\n",
       "      <td>Overcast</td>\n",
       "      <td>Hot</td>\n",
       "      <td>High</td>\n",
       "      <td>False</td>\n",
       "      <td>Yes</td>\n",
       "    </tr>\n",
       "    <tr>\n",
       "      <th>3</th>\n",
       "      <td>Sunny</td>\n",
       "      <td>Mild</td>\n",
       "      <td>High</td>\n",
       "      <td>False</td>\n",
       "      <td>Yes</td>\n",
       "    </tr>\n",
       "    <tr>\n",
       "      <th>4</th>\n",
       "      <td>Sunny</td>\n",
       "      <td>Cool</td>\n",
       "      <td>Normal</td>\n",
       "      <td>False</td>\n",
       "      <td>Yes</td>\n",
       "    </tr>\n",
       "    <tr>\n",
       "      <th>5</th>\n",
       "      <td>Sunny</td>\n",
       "      <td>Cool</td>\n",
       "      <td>Normal</td>\n",
       "      <td>True</td>\n",
       "      <td>No</td>\n",
       "    </tr>\n",
       "    <tr>\n",
       "      <th>6</th>\n",
       "      <td>Overcast</td>\n",
       "      <td>Cool</td>\n",
       "      <td>Normal</td>\n",
       "      <td>True</td>\n",
       "      <td>Yes</td>\n",
       "    </tr>\n",
       "    <tr>\n",
       "      <th>7</th>\n",
       "      <td>Rainy</td>\n",
       "      <td>Mild</td>\n",
       "      <td>High</td>\n",
       "      <td>False</td>\n",
       "      <td>No</td>\n",
       "    </tr>\n",
       "    <tr>\n",
       "      <th>8</th>\n",
       "      <td>Rainy</td>\n",
       "      <td>Cool</td>\n",
       "      <td>Normal</td>\n",
       "      <td>False</td>\n",
       "      <td>Yes</td>\n",
       "    </tr>\n",
       "    <tr>\n",
       "      <th>9</th>\n",
       "      <td>Sunny</td>\n",
       "      <td>Mild</td>\n",
       "      <td>Normal</td>\n",
       "      <td>False</td>\n",
       "      <td>Yes</td>\n",
       "    </tr>\n",
       "    <tr>\n",
       "      <th>10</th>\n",
       "      <td>Rainy</td>\n",
       "      <td>Mild</td>\n",
       "      <td>Normal</td>\n",
       "      <td>True</td>\n",
       "      <td>Yes</td>\n",
       "    </tr>\n",
       "    <tr>\n",
       "      <th>11</th>\n",
       "      <td>Overcast</td>\n",
       "      <td>Mild</td>\n",
       "      <td>High</td>\n",
       "      <td>True</td>\n",
       "      <td>Yes</td>\n",
       "    </tr>\n",
       "    <tr>\n",
       "      <th>12</th>\n",
       "      <td>Overcast</td>\n",
       "      <td>Hot</td>\n",
       "      <td>Normal</td>\n",
       "      <td>False</td>\n",
       "      <td>Yes</td>\n",
       "    </tr>\n",
       "    <tr>\n",
       "      <th>13</th>\n",
       "      <td>Sunny</td>\n",
       "      <td>Mild</td>\n",
       "      <td>High</td>\n",
       "      <td>True</td>\n",
       "      <td>No</td>\n",
       "    </tr>\n",
       "  </tbody>\n",
       "</table>\n",
       "</div>"
      ],
      "text/plain": [
       "     Outlook  Temp Humidity  Windy Play Golf\n",
       "0      Rainy   Hot     High  False        No\n",
       "1      Rainy   Hot     High   True        No\n",
       "2   Overcast   Hot     High  False       Yes\n",
       "3      Sunny  Mild     High  False       Yes\n",
       "4      Sunny  Cool   Normal  False       Yes\n",
       "5      Sunny  Cool   Normal   True        No\n",
       "6   Overcast  Cool   Normal   True       Yes\n",
       "7      Rainy  Mild     High  False        No\n",
       "8      Rainy  Cool   Normal  False       Yes\n",
       "9      Sunny  Mild   Normal  False       Yes\n",
       "10     Rainy  Mild   Normal   True       Yes\n",
       "11  Overcast  Mild     High   True       Yes\n",
       "12  Overcast   Hot   Normal  False       Yes\n",
       "13     Sunny  Mild     High   True        No"
      ]
     },
     "execution_count": 3,
     "metadata": {},
     "output_type": "execute_result"
    }
   ],
   "source": [
    "# Create train dataset\n",
    "\n",
    "data = {\n",
    "    'Outlook': [\"Rainy\", \"Rainy\", \"Overcast\", \"Sunny\", \"Sunny\", \"Sunny\",\n",
    "               \"Overcast\", \"Rainy\", \"Rainy\", \"Sunny\", \"Rainy\", \"Overcast\",\n",
    "               \"Overcast\", \"Sunny\"],\n",
    "\n",
    "    'Temp': [\"Hot\", \"Hot\", \"Hot\", \"Mild\", \"Cool\", \"Cool\", \"Cool\", \"Mild\",\n",
    "            \"Cool\", \"Mild\", \"Mild\", \"Mild\", \"Hot\", \"Mild\"],\n",
    "\n",
    "    'Humidity': [\"High\", \"High\", \"High\", \"High\", \"Normal\", \"Normal\", \"Normal\",\n",
    "                \"High\", \"Normal\", \"Normal\", \"Normal\", \"High\", \"Normal\", \"High\"],\n",
    "\n",
    "    'Windy': [\"False\", \"True\", \"False\", \"False\", \"False\", \"True\", \"True\",\n",
    "             \"False\", \"False\", \"False\", \"True\", \"True\", \"False\", \"True\"],\n",
    "\n",
    "    'Play Golf': [\"No\", \"No\", \"Yes\", \"Yes\", \"Yes\", \"No\", \"Yes\", \"No\", \"Yes\",\n",
    "                 \"Yes\", \"Yes\", \"Yes\", \"Yes\", \"No\"]\n",
    "}\n",
    "\n",
    "\n",
    "df = pd.DataFrame(data)\n",
    "df"
   ]
  },
  {
   "cell_type": "code",
   "execution_count": 4,
   "id": "405314e1",
   "metadata": {},
   "outputs": [
    {
     "data": {
      "text/plain": [
       "Play Golf\n",
       "Yes    9\n",
       "No     5\n",
       "Name: count, dtype: int64"
      ]
     },
     "execution_count": 4,
     "metadata": {},
     "output_type": "execute_result"
    }
   ],
   "source": [
    "df['Play Golf'].value_counts()"
   ]
  },
  {
   "cell_type": "code",
   "execution_count": 5,
   "id": "0e49605d",
   "metadata": {},
   "outputs": [
    {
     "data": {
      "text/html": [
       "<div>\n",
       "<style scoped>\n",
       "    .dataframe tbody tr th:only-of-type {\n",
       "        vertical-align: middle;\n",
       "    }\n",
       "\n",
       "    .dataframe tbody tr th {\n",
       "        vertical-align: top;\n",
       "    }\n",
       "\n",
       "    .dataframe thead th {\n",
       "        text-align: right;\n",
       "    }\n",
       "</style>\n",
       "<table border=\"1\" class=\"dataframe\">\n",
       "  <thead>\n",
       "    <tr style=\"text-align: right;\">\n",
       "      <th></th>\n",
       "      <th>Outlook</th>\n",
       "      <th>Temp</th>\n",
       "      <th>Humidity</th>\n",
       "      <th>Windy</th>\n",
       "      <th>Play Golf</th>\n",
       "    </tr>\n",
       "  </thead>\n",
       "  <tbody>\n",
       "    <tr>\n",
       "      <th>0</th>\n",
       "      <td>Rainy</td>\n",
       "      <td>Hot</td>\n",
       "      <td>Normal</td>\n",
       "      <td>True</td>\n",
       "      <td>No</td>\n",
       "    </tr>\n",
       "    <tr>\n",
       "      <th>1</th>\n",
       "      <td>Overcast</td>\n",
       "      <td>Hot</td>\n",
       "      <td>Normal</td>\n",
       "      <td>True</td>\n",
       "      <td>No</td>\n",
       "    </tr>\n",
       "    <tr>\n",
       "      <th>2</th>\n",
       "      <td>Rainy</td>\n",
       "      <td>Hot</td>\n",
       "      <td>Normal</td>\n",
       "      <td>False</td>\n",
       "      <td>Yes</td>\n",
       "    </tr>\n",
       "  </tbody>\n",
       "</table>\n",
       "</div>"
      ],
      "text/plain": [
       "    Outlook Temp Humidity  Windy Play Golf\n",
       "0     Rainy  Hot   Normal   True        No\n",
       "1  Overcast  Hot   Normal   True        No\n",
       "2     Rainy  Hot   Normal  False       Yes"
      ]
     },
     "execution_count": 5,
     "metadata": {},
     "output_type": "execute_result"
    }
   ],
   "source": [
    "# Create test dataset\n",
    "\n",
    "test_data = {\n",
    "    'Outlook': [\"Rainy\", \"Overcast\", \"Rainy\"],\n",
    "    'Temp': [\"Hot\", \"Hot\", \"Hot\"],\n",
    "    'Humidity': [\"Normal\", \"Normal\", \"Normal\"],\n",
    "    'Windy': [\"True\", \"True\", \"False\"],\n",
    "\n",
    "    'Play Golf': [\"No\", \"No\", \"Yes\"]\n",
    "}\n",
    "test = pd.DataFrame(test_data)\n",
    "test"
   ]
  },
  {
   "cell_type": "code",
   "execution_count": 6,
   "id": "1c75300f",
   "metadata": {},
   "outputs": [
    {
     "data": {
      "text/plain": [
       "Play Golf\n",
       "No     2\n",
       "Yes    1\n",
       "Name: count, dtype: int64"
      ]
     },
     "execution_count": 6,
     "metadata": {},
     "output_type": "execute_result"
    }
   ],
   "source": [
    "test['Play Golf'].value_counts()"
   ]
  },
  {
   "cell_type": "markdown",
   "id": "2e464bf8",
   "metadata": {},
   "source": [
    "# Split the Dataset"
   ]
  },
  {
   "cell_type": "code",
   "execution_count": 7,
   "id": "90857439",
   "metadata": {},
   "outputs": [],
   "source": [
    "x_train = df.drop(columns='Play Golf')\n",
    "y_train = df['Play Golf']\n",
    "\n",
    "x_test = test.drop(columns='Play Golf')\n",
    "y_test = test['Play Golf']"
   ]
  },
  {
   "cell_type": "markdown",
   "id": "506177b6",
   "metadata": {},
   "source": [
    "# ZeroR Classifier using Sklearn"
   ]
  },
  {
   "cell_type": "code",
   "execution_count": null,
   "id": "d5d81bbc",
   "metadata": {},
   "outputs": [],
   "source": [
    "# Step-1 : Import the model from sklearn\n",
    "from sklearn.dummy import DummyClassifier\n",
    "\n",
    "# Step-2 : Create an instance or object of the model\n",
    "model = DummyClassifier(strategy='most_frequent')"
   ]
  },
  {
   "cell_type": "code",
   "execution_count": null,
   "id": "f962b2ef",
   "metadata": {},
   "outputs": [],
   "source": []
  }
 ],
 "metadata": {
  "kernelspec": {
   "display_name": "Python 3 (ipykernel)",
   "language": "python",
   "name": "python3"
  },
  "language_info": {
   "codemirror_mode": {
    "name": "ipython",
    "version": 3
   },
   "file_extension": ".py",
   "mimetype": "text/x-python",
   "name": "python",
   "nbconvert_exporter": "python",
   "pygments_lexer": "ipython3",
   "version": "3.11.5"
  }
 },
 "nbformat": 4,
 "nbformat_minor": 5
}

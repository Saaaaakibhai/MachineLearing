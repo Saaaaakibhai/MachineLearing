{
 "cells": [
  {
   "cell_type": "code",
   "execution_count": null,
   "id": "9343774c",
   "metadata": {},
   "outputs": [],
   "source": [
    "# Performance Metrics [Classification Problem]\n",
    "\n",
    "\n",
    "🤖 `Notebook by` [S. M. Mahedi Hasan](https://www.linkedin.com/in/s-m-mahedi-hasan-09a8452ab/)\n",
    "\n",
    "✅ `Machine Learning Source Codes` [GitHub](https://github.com/Saaaaakibhai/MachineLearing)\n",
    "\n",
    "📌 `Machine Learning from Scratch` [Course Outline](https://docs.google.com/document/d/15mGNTUSlWQsy4TzcLZUdYedpCMO5KiVq1USaDprHaIc/edit?usp=sharing)\n",
    "\n",
    "📌 `Related` [PPTX Slide](https://docs.google.com/presentation/d/1gir8tFBx8T4ZXhNtN4HHZ2-o6kxG1qg_/edit#slide=id.p1)"
   ]
  }
 ],
 "metadata": {
  "kernelspec": {
   "display_name": "Python 3 (ipykernel)",
   "language": "python",
   "name": "python3"
  },
  "language_info": {
   "codemirror_mode": {
    "name": "ipython",
    "version": 3
   },
   "file_extension": ".py",
   "mimetype": "text/x-python",
   "name": "python",
   "nbconvert_exporter": "python",
   "pygments_lexer": "ipython3",
   "version": "3.11.5"
  }
 },
 "nbformat": 4,
 "nbformat_minor": 5
}

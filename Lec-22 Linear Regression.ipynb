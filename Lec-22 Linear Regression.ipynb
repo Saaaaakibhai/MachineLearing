{
 "cells": [
  {
   "cell_type": "markdown",
   "metadata": {},
   "source": [
    "# Hyperparameter Tuning\n",
    "\n",
    "\n",
    "\n",
    "🤖 `Notebook by` [S. M. Mahedi Hasan](https://www.linkedin.com/in/s-m-mahedi-hasan-09a8452ab/)\n",
    "\n",
    "✅ `Machine Learning Source Codes` [GitHub](https://github.com/Saaaaakibhai/MachineLearing)\n",
    "\n",
    "📌 `Machine Learning from Scratch` [Course Outline](https://docs.google.com/document/d/15mGNTUSlWQsy4TzcLZUdYedpCMO5KiVq1USaDprHaIc/edit?usp=sharing)\n",
    "\n",
    "📌 `Related` [Class Sketchbook](https://onedrive.live.com/redir?resid=23234950AC59312C%214392&authkey=%21AI7RcBANSuqYgQw&page=View&wd=target%28Untitled%20Section.one%7C4bb0156d-d464-4c0b-a2b3-79724559e3ff%2FLinear%20Regression%7C5c373568-347e-41e4-bfc7-2b9054b09d6d%2F%29&wdorigin=NavigationUrl)\n",
    "\n",
    "📌 `Related` [Medium Article](https://medium.com/analytics-vidhya/mae-mse-rmse-coefficient-of-determination-adjusted-r-squared-which-metric-is-better-cd0326a5697e)\n",
    "\n",
    "📌 `Related` [Medium Article](https://medium.com/analytics-vidhya/everything-you-need-to-know-about-linear-regression-750a69a0ea50)\n",
    "\n",
    "📌 `Related` [Dataset](https://archive.ics.uci.edu/dataset/360/air+quality)"
   ]
  },
  {
   "cell_type": "markdown",
   "metadata": {},
   "source": [
    "# Air Quality"
   ]
  },
  {
   "cell_type": "markdown",
   "metadata": {
    "id": "WKv3KAQkQ7zX"
   },
   "source": [
    "## Load Libraries"
   ]
  },
  {
   "cell_type": "code",
   "execution_count": 1,
   "metadata": {
    "id": "2G3d8XdGQ_yF"
   },
   "outputs": [],
   "source": [
    "import pandas as pd\n",
    "import numpy as np\n",
    "from matplotlib import pyplot as plt"
   ]
  },
  {
   "cell_type": "markdown",
   "metadata": {
    "id": "MLGyoKCeREn3"
   },
   "source": [
    "## Load Dataset"
   ]
  },
  {
   "cell_type": "code",
   "execution_count": 2,
   "metadata": {
    "colab": {
     "base_uri": "https://localhost:8080/",
     "height": 206
    },
    "id": "ijW8FaX1cY99",
    "outputId": "0fffc466-c49a-460f-9041-c07d8b45c160"
   },
   "outputs": [
    {
     "data": {
      "text/html": [
       "<div>\n",
       "<style scoped>\n",
       "    .dataframe tbody tr th:only-of-type {\n",
       "        vertical-align: middle;\n",
       "    }\n",
       "\n",
       "    .dataframe tbody tr th {\n",
       "        vertical-align: top;\n",
       "    }\n",
       "\n",
       "    .dataframe thead th {\n",
       "        text-align: right;\n",
       "    }\n",
       "</style>\n",
       "<table border=\"1\" class=\"dataframe\">\n",
       "  <thead>\n",
       "    <tr style=\"text-align: right;\">\n",
       "      <th></th>\n",
       "      <th>Date</th>\n",
       "      <th>Time</th>\n",
       "      <th>CO(GT)</th>\n",
       "      <th>PT08.S1(CO)</th>\n",
       "      <th>NMHC(GT)</th>\n",
       "      <th>C6H6(GT)</th>\n",
       "      <th>PT08.S2(NMHC)</th>\n",
       "      <th>NOx(GT)</th>\n",
       "      <th>PT08.S3(NOx)</th>\n",
       "      <th>NO2(GT)</th>\n",
       "      <th>PT08.S4(NO2)</th>\n",
       "      <th>PT08.S5(O3)</th>\n",
       "      <th>T</th>\n",
       "      <th>RH</th>\n",
       "      <th>AH</th>\n",
       "    </tr>\n",
       "  </thead>\n",
       "  <tbody>\n",
       "    <tr>\n",
       "      <th>0</th>\n",
       "      <td>2004-03-10</td>\n",
       "      <td>18:00:00</td>\n",
       "      <td>2.6</td>\n",
       "      <td>1360.00</td>\n",
       "      <td>150</td>\n",
       "      <td>11.881723</td>\n",
       "      <td>1045.50</td>\n",
       "      <td>166.0</td>\n",
       "      <td>1056.25</td>\n",
       "      <td>113.0</td>\n",
       "      <td>1692.00</td>\n",
       "      <td>1267.50</td>\n",
       "      <td>13.60</td>\n",
       "      <td>48.875001</td>\n",
       "      <td>0.757754</td>\n",
       "    </tr>\n",
       "    <tr>\n",
       "      <th>1</th>\n",
       "      <td>2004-03-10</td>\n",
       "      <td>19:00:00</td>\n",
       "      <td>2.0</td>\n",
       "      <td>1292.25</td>\n",
       "      <td>112</td>\n",
       "      <td>9.397165</td>\n",
       "      <td>954.75</td>\n",
       "      <td>103.0</td>\n",
       "      <td>1173.75</td>\n",
       "      <td>92.0</td>\n",
       "      <td>1558.75</td>\n",
       "      <td>972.25</td>\n",
       "      <td>13.30</td>\n",
       "      <td>47.700000</td>\n",
       "      <td>0.725487</td>\n",
       "    </tr>\n",
       "    <tr>\n",
       "      <th>2</th>\n",
       "      <td>2004-03-10</td>\n",
       "      <td>20:00:00</td>\n",
       "      <td>2.2</td>\n",
       "      <td>1402.00</td>\n",
       "      <td>88</td>\n",
       "      <td>8.997817</td>\n",
       "      <td>939.25</td>\n",
       "      <td>131.0</td>\n",
       "      <td>1140.00</td>\n",
       "      <td>114.0</td>\n",
       "      <td>1554.50</td>\n",
       "      <td>1074.00</td>\n",
       "      <td>11.90</td>\n",
       "      <td>53.975000</td>\n",
       "      <td>0.750239</td>\n",
       "    </tr>\n",
       "    <tr>\n",
       "      <th>3</th>\n",
       "      <td>2004-03-10</td>\n",
       "      <td>21:00:00</td>\n",
       "      <td>2.2</td>\n",
       "      <td>1375.50</td>\n",
       "      <td>80</td>\n",
       "      <td>9.228796</td>\n",
       "      <td>948.25</td>\n",
       "      <td>172.0</td>\n",
       "      <td>1092.00</td>\n",
       "      <td>122.0</td>\n",
       "      <td>1583.75</td>\n",
       "      <td>1203.25</td>\n",
       "      <td>11.00</td>\n",
       "      <td>60.000000</td>\n",
       "      <td>0.786713</td>\n",
       "    </tr>\n",
       "    <tr>\n",
       "      <th>4</th>\n",
       "      <td>2004-03-10</td>\n",
       "      <td>22:00:00</td>\n",
       "      <td>1.6</td>\n",
       "      <td>1272.25</td>\n",
       "      <td>51</td>\n",
       "      <td>6.518224</td>\n",
       "      <td>835.50</td>\n",
       "      <td>131.0</td>\n",
       "      <td>1205.00</td>\n",
       "      <td>116.0</td>\n",
       "      <td>1490.00</td>\n",
       "      <td>1110.00</td>\n",
       "      <td>11.15</td>\n",
       "      <td>59.575001</td>\n",
       "      <td>0.788794</td>\n",
       "    </tr>\n",
       "  </tbody>\n",
       "</table>\n",
       "</div>"
      ],
      "text/plain": [
       "        Date      Time  CO(GT)  PT08.S1(CO)  NMHC(GT)   C6H6(GT)  \\\n",
       "0 2004-03-10  18:00:00     2.6      1360.00       150  11.881723   \n",
       "1 2004-03-10  19:00:00     2.0      1292.25       112   9.397165   \n",
       "2 2004-03-10  20:00:00     2.2      1402.00        88   8.997817   \n",
       "3 2004-03-10  21:00:00     2.2      1375.50        80   9.228796   \n",
       "4 2004-03-10  22:00:00     1.6      1272.25        51   6.518224   \n",
       "\n",
       "   PT08.S2(NMHC)  NOx(GT)  PT08.S3(NOx)  NO2(GT)  PT08.S4(NO2)  PT08.S5(O3)  \\\n",
       "0        1045.50    166.0       1056.25    113.0       1692.00      1267.50   \n",
       "1         954.75    103.0       1173.75     92.0       1558.75       972.25   \n",
       "2         939.25    131.0       1140.00    114.0       1554.50      1074.00   \n",
       "3         948.25    172.0       1092.00    122.0       1583.75      1203.25   \n",
       "4         835.50    131.0       1205.00    116.0       1490.00      1110.00   \n",
       "\n",
       "       T         RH        AH  \n",
       "0  13.60  48.875001  0.757754  \n",
       "1  13.30  47.700000  0.725487  \n",
       "2  11.90  53.975000  0.750239  \n",
       "3  11.00  60.000000  0.786713  \n",
       "4  11.15  59.575001  0.788794  "
      ]
     },
     "execution_count": 2,
     "metadata": {},
     "output_type": "execute_result"
    }
   ],
   "source": [
    "df = pd.read_excel('Datasets/AirQualityUCI.xlsx')\n",
    "df.head()"
   ]
  },
  {
   "cell_type": "markdown",
   "metadata": {
    "id": "Vpd1zbdNRlim"
   },
   "source": [
    "## Exploratory Data Analysis (EDA)"
   ]
  },
  {
   "cell_type": "code",
   "execution_count": 3,
   "metadata": {
    "colab": {
     "base_uri": "https://localhost:8080/"
    },
    "id": "aWK1HDXaRn9m",
    "outputId": "416d12e0-7627-4e8f-e0d7-b82f9d26d8cc"
   },
   "outputs": [
    {
     "name": "stdout",
     "output_type": "stream",
     "text": [
      "<class 'pandas.core.frame.DataFrame'>\n",
      "RangeIndex: 9357 entries, 0 to 9356\n",
      "Data columns (total 15 columns):\n",
      " #   Column         Non-Null Count  Dtype         \n",
      "---  ------         --------------  -----         \n",
      " 0   Date           9357 non-null   datetime64[ns]\n",
      " 1   Time           9357 non-null   object        \n",
      " 2   CO(GT)         9357 non-null   float64       \n",
      " 3   PT08.S1(CO)    9357 non-null   float64       \n",
      " 4   NMHC(GT)       9357 non-null   int64         \n",
      " 5   C6H6(GT)       9357 non-null   float64       \n",
      " 6   PT08.S2(NMHC)  9357 non-null   float64       \n",
      " 7   NOx(GT)        9357 non-null   float64       \n",
      " 8   PT08.S3(NOx)   9357 non-null   float64       \n",
      " 9   NO2(GT)        9357 non-null   float64       \n",
      " 10  PT08.S4(NO2)   9357 non-null   float64       \n",
      " 11  PT08.S5(O3)    9357 non-null   float64       \n",
      " 12  T              9357 non-null   float64       \n",
      " 13  RH             9357 non-null   float64       \n",
      " 14  AH             9357 non-null   float64       \n",
      "dtypes: datetime64[ns](1), float64(12), int64(1), object(1)\n",
      "memory usage: 1.1+ MB\n"
     ]
    }
   ],
   "source": [
    "# See dataset detailed info\n",
    "df.info()"
   ]
  },
  {
   "cell_type": "markdown",
   "metadata": {
    "id": "heEolXoASCw3"
   },
   "source": [
    "### Drop unnecessary Column"
   ]
  },
  {
   "cell_type": "code",
   "execution_count": 4,
   "metadata": {
    "colab": {
     "base_uri": "https://localhost:8080/"
    },
    "id": "g6ID38sRSGCI",
    "outputId": "e9f5c9b6-6889-4881-ede3-be5b637bd8ae"
   },
   "outputs": [
    {
     "name": "stdout",
     "output_type": "stream",
     "text": [
      "<class 'pandas.core.frame.DataFrame'>\n",
      "RangeIndex: 9357 entries, 0 to 9356\n",
      "Data columns (total 11 columns):\n",
      " #   Column         Non-Null Count  Dtype  \n",
      "---  ------         --------------  -----  \n",
      " 0   CO(GT)         9357 non-null   float64\n",
      " 1   PT08.S1(CO)    9357 non-null   float64\n",
      " 2   NMHC(GT)       9357 non-null   int64  \n",
      " 3   C6H6(GT)       9357 non-null   float64\n",
      " 4   PT08.S2(NMHC)  9357 non-null   float64\n",
      " 5   NOx(GT)        9357 non-null   float64\n",
      " 6   PT08.S3(NOx)   9357 non-null   float64\n",
      " 7   NO2(GT)        9357 non-null   float64\n",
      " 8   PT08.S4(NO2)   9357 non-null   float64\n",
      " 9   PT08.S5(O3)    9357 non-null   float64\n",
      " 10  T              9357 non-null   float64\n",
      "dtypes: float64(10), int64(1)\n",
      "memory usage: 804.2 KB\n"
     ]
    }
   ],
   "source": [
    "df.drop(columns=['Date','Time','RH','AH'], inplace=True)\n",
    "df.info()"
   ]
  },
  {
   "cell_type": "markdown",
   "metadata": {
    "id": "7_t_PNkIR_4H"
   },
   "source": [
    "### Check duplicates"
   ]
  },
  {
   "cell_type": "code",
   "execution_count": 5,
   "metadata": {
    "colab": {
     "base_uri": "https://localhost:8080/"
    },
    "id": "182PzZdxR3U_",
    "outputId": "060579d0-29cb-4bcb-eaa7-b1ad9301366f"
   },
   "outputs": [
    {
     "data": {
      "text/plain": [
       "31"
      ]
     },
     "execution_count": 5,
     "metadata": {},
     "output_type": "execute_result"
    }
   ],
   "source": [
    "# Check duplicates\n",
    "count_duplicates = df.duplicated().sum()\n",
    "count_duplicates"
   ]
  },
  {
   "cell_type": "markdown",
   "metadata": {
    "id": "txN6TH9QDoG2"
   },
   "source": [
    "## Feature scaling"
   ]
  },
  {
   "cell_type": "code",
   "execution_count": 6,
   "metadata": {
    "colab": {
     "base_uri": "https://localhost:8080/",
     "height": 206
    },
    "id": "XhAWgSBxTmHW",
    "outputId": "a12c3197-0db4-4c87-aa88-48d9f0d9b2d6"
   },
   "outputs": [
    {
     "data": {
      "text/html": [
       "<div>\n",
       "<style scoped>\n",
       "    .dataframe tbody tr th:only-of-type {\n",
       "        vertical-align: middle;\n",
       "    }\n",
       "\n",
       "    .dataframe tbody tr th {\n",
       "        vertical-align: top;\n",
       "    }\n",
       "\n",
       "    .dataframe thead th {\n",
       "        text-align: right;\n",
       "    }\n",
       "</style>\n",
       "<table border=\"1\" class=\"dataframe\">\n",
       "  <thead>\n",
       "    <tr style=\"text-align: right;\">\n",
       "      <th></th>\n",
       "      <th>CO(GT)</th>\n",
       "      <th>PT08.S1(CO)</th>\n",
       "      <th>NMHC(GT)</th>\n",
       "      <th>C6H6(GT)</th>\n",
       "      <th>PT08.S2(NMHC)</th>\n",
       "      <th>NOx(GT)</th>\n",
       "      <th>PT08.S3(NOx)</th>\n",
       "      <th>NO2(GT)</th>\n",
       "      <th>PT08.S4(NO2)</th>\n",
       "      <th>PT08.S5(O3)</th>\n",
       "      <th>T</th>\n",
       "    </tr>\n",
       "  </thead>\n",
       "  <tbody>\n",
       "    <tr>\n",
       "      <th>0</th>\n",
       "      <td>0.956111</td>\n",
       "      <td>0.696506</td>\n",
       "      <td>0.251980</td>\n",
       "      <td>0.803369</td>\n",
       "      <td>0.515949</td>\n",
       "      <td>0.217987</td>\n",
       "      <td>0.435782</td>\n",
       "      <td>0.579952</td>\n",
       "      <td>0.635966</td>\n",
       "      <td>0.538977</td>\n",
       "      <td>0.873262</td>\n",
       "    </tr>\n",
       "    <tr>\n",
       "      <th>1</th>\n",
       "      <td>0.953280</td>\n",
       "      <td>0.666257</td>\n",
       "      <td>0.224622</td>\n",
       "      <td>0.793949</td>\n",
       "      <td>0.478355</td>\n",
       "      <td>0.180465</td>\n",
       "      <td>0.476541</td>\n",
       "      <td>0.541041</td>\n",
       "      <td>0.591176</td>\n",
       "      <td>0.430539</td>\n",
       "      <td>0.872036</td>\n",
       "    </tr>\n",
       "    <tr>\n",
       "      <th>2</th>\n",
       "      <td>0.954224</td>\n",
       "      <td>0.715258</td>\n",
       "      <td>0.207343</td>\n",
       "      <td>0.792434</td>\n",
       "      <td>0.471935</td>\n",
       "      <td>0.197141</td>\n",
       "      <td>0.464834</td>\n",
       "      <td>0.581805</td>\n",
       "      <td>0.589748</td>\n",
       "      <td>0.467909</td>\n",
       "      <td>0.866312</td>\n",
       "    </tr>\n",
       "    <tr>\n",
       "      <th>3</th>\n",
       "      <td>0.954224</td>\n",
       "      <td>0.703427</td>\n",
       "      <td>0.201584</td>\n",
       "      <td>0.793310</td>\n",
       "      <td>0.475663</td>\n",
       "      <td>0.221560</td>\n",
       "      <td>0.448183</td>\n",
       "      <td>0.596628</td>\n",
       "      <td>0.599580</td>\n",
       "      <td>0.515380</td>\n",
       "      <td>0.862633</td>\n",
       "    </tr>\n",
       "    <tr>\n",
       "      <th>4</th>\n",
       "      <td>0.951392</td>\n",
       "      <td>0.657328</td>\n",
       "      <td>0.180706</td>\n",
       "      <td>0.783033</td>\n",
       "      <td>0.428956</td>\n",
       "      <td>0.197141</td>\n",
       "      <td>0.487382</td>\n",
       "      <td>0.585510</td>\n",
       "      <td>0.568067</td>\n",
       "      <td>0.481131</td>\n",
       "      <td>0.863246</td>\n",
       "    </tr>\n",
       "  </tbody>\n",
       "</table>\n",
       "</div>"
      ],
      "text/plain": [
       "     CO(GT)  PT08.S1(CO)  NMHC(GT)  C6H6(GT)  PT08.S2(NMHC)   NOx(GT)  \\\n",
       "0  0.956111     0.696506  0.251980  0.803369       0.515949  0.217987   \n",
       "1  0.953280     0.666257  0.224622  0.793949       0.478355  0.180465   \n",
       "2  0.954224     0.715258  0.207343  0.792434       0.471935  0.197141   \n",
       "3  0.954224     0.703427  0.201584  0.793310       0.475663  0.221560   \n",
       "4  0.951392     0.657328  0.180706  0.783033       0.428956  0.197141   \n",
       "\n",
       "   PT08.S3(NOx)   NO2(GT)  PT08.S4(NO2)  PT08.S5(O3)         T  \n",
       "0      0.435782  0.579952      0.635966     0.538977  0.873262  \n",
       "1      0.476541  0.541041      0.591176     0.430539  0.872036  \n",
       "2      0.464834  0.581805      0.589748     0.467909  0.866312  \n",
       "3      0.448183  0.596628      0.599580     0.515380  0.862633  \n",
       "4      0.487382  0.585510      0.568067     0.481131  0.863246  "
      ]
     },
     "execution_count": 6,
     "metadata": {},
     "output_type": "execute_result"
    }
   ],
   "source": [
    "# Using Scikit-learn library\n",
    "from sklearn.preprocessing import MinMaxScaler\n",
    "\n",
    "# Initialize the scaler\n",
    "scaler = MinMaxScaler()\n",
    "scaled_array = scaler.fit_transform(df)\n",
    "\n",
    "# Convert Array to DF\n",
    "df = pd.DataFrame(scaled_array, columns=df.columns)\n",
    "df.head()"
   ]
  },
  {
   "cell_type": "markdown",
   "metadata": {
    "id": "Oni5UbCHpsPE"
   },
   "source": [
    "## Train-Test Split"
   ]
  },
  {
   "cell_type": "code",
   "execution_count": 7,
   "metadata": {
    "colab": {
     "base_uri": "https://localhost:8080/"
    },
    "id": "rS7S_pfrxWuL",
    "outputId": "743b8857-d757-4f67-b43e-13a93efb7bc4"
   },
   "outputs": [
    {
     "name": "stdout",
     "output_type": "stream",
     "text": [
      "(7485, 10)\n",
      "(7485,)\n",
      "(1872, 10)\n",
      "(1872,)\n"
     ]
    }
   ],
   "source": [
    "# Splitting train and test\n",
    "# Train = 80%\n",
    "# Test = 20%\n",
    "from sklearn.model_selection import train_test_split\n",
    "\n",
    "y = df['T']\n",
    "x = df.drop(columns='T')\n",
    "x_train, x_test, y_train, y_test = train_test_split(x, y, test_size=0.2, random_state=42)\n",
    "\n",
    "print(x_train.shape)\n",
    "print(y_train.shape)\n",
    "print(x_test.shape)\n",
    "print(y_test.shape)"
   ]
  },
  {
   "cell_type": "markdown",
   "metadata": {
    "id": "_3s0IiJNzvSd"
   },
   "source": [
    "## Linear Regression"
   ]
  },
  {
   "cell_type": "code",
   "execution_count": 8,
   "metadata": {
    "colab": {
     "base_uri": "https://localhost:8080/"
    },
    "id": "UfaNxmPo7ZZu",
    "outputId": "4401b71c-c921-43f5-b26e-eabaa0b5765c"
   },
   "outputs": [
    {
     "name": "stdout",
     "output_type": "stream",
     "text": [
      "Learned coefficients (weights): [-7.03413050e-06 -1.55822376e-01 -5.48022220e-02  1.30121158e+00\n",
      " -2.07613133e-01 -1.00402477e-01 -1.17937443e-01  5.18756735e-02\n",
      "  2.45384093e-01 -1.22784169e-01]\n",
      "Learned intercept (bias): 0.0038677125623548525\n",
      "Mean Squared Error (Train MSE): 0.0005667014118693809\n"
     ]
    }
   ],
   "source": [
    "from sklearn.linear_model import LinearRegression\n",
    "from sklearn.metrics import mean_squared_error\n",
    "import numpy as np\n",
    "\n",
    "# Initialize Linear Regression model\n",
    "model = LinearRegression()\n",
    "\n",
    "# Fit the model to the data\n",
    "model.fit(x_train, y_train)\n",
    "\n",
    "# Print the learned coefficients\n",
    "print(\"Learned coefficients (weights):\", model.coef_)\n",
    "print(\"Learned intercept (bias):\", model.intercept_)\n",
    "\n",
    "# Make predictions (using Train Set)\n",
    "y_pred_train = model.predict(x_train)\n",
    "# Calculate Mean Squared Error\n",
    "train_mse = mean_squared_error(y_train, y_pred_train)\n",
    "print(\"Mean Squared Error (Train MSE):\", train_mse)"
   ]
  },
  {
   "cell_type": "code",
   "execution_count": 9,
   "metadata": {
    "colab": {
     "base_uri": "https://localhost:8080/"
    },
    "id": "_xLe8_EaVzt9",
    "outputId": "6d9fcff3-7ce1-4b71-9f74-99459ad67d59"
   },
   "outputs": [
    {
     "name": "stdout",
     "output_type": "stream",
     "text": [
      "Mean Squared Error (Test MSE): 0.000558911392668901\n"
     ]
    }
   ],
   "source": [
    "# Make predictions (using Test Set)\n",
    "y_pred_test = model.predict(x_test)\n",
    "# Calculate Mean Squared Error\n",
    "test_mse = mean_squared_error(y_test, y_pred_test)\n",
    "print(\"Mean Squared Error (Test MSE):\", test_mse)"
   ]
  },
  {
   "cell_type": "markdown",
   "metadata": {
    "id": "bkHyEszXWr-P"
   },
   "source": [
    "## Manual LR Code"
   ]
  },
  {
   "cell_type": "code",
   "execution_count": 10,
   "metadata": {
    "colab": {
     "base_uri": "https://localhost:8080/",
     "height": 507
    },
    "id": "vgxYhd6K0LMr",
    "outputId": "3a1f1d97-0106-4d0c-9463-239bd8f2b73b"
   },
   "outputs": [
    {
     "data": {
      "image/png": "[encoded data removed]",
      "text/plain": [
       "<Figure size 640x480 with 1 Axes>"
      ]
     },
     "metadata": {},
     "output_type": "display_data"
    },
    {
     "name": "stdout",
     "output_type": "stream",
     "text": [
      "Mean Squared Error (Test MSE): 0.002470649533063384\n",
      "Mean Squared Error (Train MSE): 0.0024431007993075756\n"
     ]
    }
   ],
   "source": [
    "# Manual LR code by Ihsanul(The Instructor)\n",
    "\n",
    "def initialize_parameters(n_features):\n",
    "    weights = np.zeros(n_features)\n",
    "    bias = 0\n",
    "    return weights, bias\n",
    "\n",
    "def compute_predictions(X, weights, bias):\n",
    "    return np.dot(X, weights) + bias\n",
    "\n",
    "def compute_gradients(X, y, y_pred):\n",
    "    n_samples = X.shape[0]\n",
    "    dw = (1/n_samples) * np.dot(X.T, (y_pred - y))\n",
    "    db = (1/n_samples) * np.sum(y_pred - y)\n",
    "    return dw, db\n",
    "\n",
    "def update_parameters(weights, bias, dw, db, learning_rate):\n",
    "    weights -= learning_rate * dw\n",
    "    bias -= learning_rate * db\n",
    "    return weights, bias\n",
    "\n",
    "def train(X, y, learning_rate, epoch):\n",
    "    n_samples, n_features = X.shape\n",
    "    weights, bias = initialize_parameters(n_features)\n",
    "    costs = []  # Store MSE values at each epoch\n",
    "\n",
    "    for i in range(epoch):\n",
    "        y_pred = compute_predictions(X, weights, bias)\n",
    "        dw, db = compute_gradients(X, y, y_pred)\n",
    "        weights, bias = update_parameters(weights, bias, dw, db, learning_rate)\n",
    "\n",
    "        # Calculate MSE and append to costs\n",
    "        cost = MSE(y, y_pred)\n",
    "        costs.append(cost)\n",
    "\n",
    "    return weights, bias, costs\n",
    "\n",
    "def predict(X, weights, bias):\n",
    "    return np.dot(X, weights) + bias\n",
    "\n",
    "def MSE(y_true, y_pred):\n",
    "    return np.mean((y_true - y_pred) ** 2)\n",
    "\n",
    "\n",
    "# Train the model\n",
    "weights, bias, costs = train(x_train, y_train, learning_rate=0.5, epoch=100)\n",
    "\n",
    "# Plot\n",
    "plt.plot(range(len(costs)), costs)\n",
    "plt.xlabel('Epoch')\n",
    "plt.ylabel('Mean Squared Error')\n",
    "plt.title('Cost vs. Epoch')\n",
    "plt.show()\n",
    "\n",
    "# Make predictions (using Test Set)\n",
    "y_pred_test = predict(x_test, weights, bias)\n",
    "# Calculate Mean Squared Error\n",
    "test_mse = MSE(y_test, y_pred_test)\n",
    "print(\"Mean Squared Error (Test MSE):\", test_mse)\n",
    "\n",
    "# Make predictions (using Train Set)\n",
    "y_pred_train = predict(x_train, weights, bias)\n",
    "# Calculate Mean Squared Error\n",
    "train_mse = MSE(y_train, y_pred_train)\n",
    "print(\"Mean Squared Error (Train MSE):\", train_mse)"
   ]
  }
 ],
 "metadata": {
  "colab": {
   "provenance": []
  },
  "kernelspec": {
   "display_name": "Python 3 (ipykernel)",
   "language": "python",
   "name": "python3"
  },
  "language_info": {
   "codemirror_mode": {
    "name": "ipython",
    "version": 3
   },
   "file_extension": ".py",
   "mimetype": "text/x-python",
   "name": "python",
   "nbconvert_exporter": "python",
   "pygments_lexer": "ipython3",
   "version": "3.11.5"
  }
 },
 "nbformat": 4,
 "nbformat_minor": 1
}

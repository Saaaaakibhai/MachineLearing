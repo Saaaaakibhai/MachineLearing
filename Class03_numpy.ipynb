{
 "cells": [
  {
   "cell_type": "markdown",
   "id": "c425bfc8",
   "metadata": {},
   "source": [
    "# Import Numpy"
   ]
  },
  {
   "cell_type": "code",
   "execution_count": 2,
   "id": "1f4b86e4",
   "metadata": {},
   "outputs": [
    {
     "name": "stdout",
     "output_type": "stream",
     "text": [
      "[1 2 3 4 5]\n"
     ]
    }
   ],
   "source": [
    "import numpy\n",
    "#Creating a numpy array\n",
    "arr=numpy.array([1,2,3,4,5])\n",
    "print(arr)"
   ]
  },
  {
   "cell_type": "code",
   "execution_count": 3,
   "id": "80dc14c9",
   "metadata": {},
   "outputs": [
    {
     "name": "stdout",
     "output_type": "stream",
     "text": [
      "[1 2 3 4 5]\n"
     ]
    }
   ],
   "source": [
    "#Numpy is usually imported under the np alias\n",
    "import numpy as np \n",
    "\n",
    "# Access Numpy Library using np\n",
    "arr=np.array([1,2,3,4,5])\n",
    "print(arr)              "
   ]
  },
  {
   "cell_type": "markdown",
   "id": "8aa92857",
   "metadata": {},
   "source": [
    "# Numpy Creating Arrays"
   ]
  },
  {
   "cell_type": "code",
   "execution_count": 4,
   "id": "d9099cb2",
   "metadata": {},
   "outputs": [
    {
     "name": "stdout",
     "output_type": "stream",
     "text": [
      "1.24.3\n"
     ]
    }
   ],
   "source": [
    "# Checking Numpy Version\n",
    "print(np.__version__)"
   ]
  },
  {
   "cell_type": "code",
   "execution_count": 5,
   "id": "f5ed82ea",
   "metadata": {},
   "outputs": [
    {
     "name": "stdout",
     "output_type": "stream",
     "text": [
      "[1 2 3 4 5]\n",
      "<class 'numpy.ndarray'>\n"
     ]
    }
   ],
   "source": [
    "arr=np.array([1,2,3,4,5])\n",
    "print(arr)\n",
    "print(type(arr))"
   ]
  },
  {
   "cell_type": "markdown",
   "id": "e337b28e",
   "metadata": {},
   "source": [
    "## Dimension in Array"
   ]
  },
  {
   "cell_type": "code",
   "execution_count": 9,
   "id": "b76a8f73",
   "metadata": {},
   "outputs": [
    {
     "name": "stdout",
     "output_type": "stream",
     "text": [
      "42\n",
      "0\n"
     ]
    }
   ],
   "source": [
    "#Dimension in arrays\n",
    "#0-D arrays\n",
    "arr=np.array(42)\n",
    "print(arr)\n",
    "\n",
    "#check array dimention\n",
    "print(arr.ndim)"
   ]
  },
  {
   "cell_type": "code",
   "execution_count": 14,
   "id": "535fd2d7",
   "metadata": {},
   "outputs": [
    {
     "name": "stdout",
     "output_type": "stream",
     "text": [
      "[1 2 3 4 5]\n",
      "1\n"
     ]
    }
   ],
   "source": [
    "#1-D Arrays\n",
    "arr1=np.array([1,2,3,4,5])\n",
    "print(arr1)\n",
    "print(arr1.ndim)"
   ]
  },
  {
   "cell_type": "code",
   "execution_count": 12,
   "id": "0128de7d",
   "metadata": {},
   "outputs": [
    {
     "name": "stdout",
     "output_type": "stream",
     "text": [
      "[[1 2 3]\n",
      " [4 5 6]]\n",
      "2\n"
     ]
    }
   ],
   "source": [
    "#2-D arrays\n",
    "arr2 = np.array([\n",
    "    [1,2,3],\n",
    "    [4,5,6]\n",
    "])\n",
    "print(arr2)\n",
    "print(arr2.ndim)"
   ]
  },
  {
   "cell_type": "code",
   "execution_count": 16,
   "id": "aaf0d4d7",
   "metadata": {},
   "outputs": [
    {
     "name": "stdout",
     "output_type": "stream",
     "text": [
      "[[[1 2 3]\n",
      "  [4 5 6]]\n",
      "\n",
      " [[1 2 3]\n",
      "  [4 5 6]]]\n",
      "3\n"
     ]
    }
   ],
   "source": [
    "# 3-D arrays\n",
    "arr3 = np.array([\n",
    "    [\n",
    "        [1,2,3],\n",
    "        [4,5,6]\n",
    "    ],\n",
    "    [\n",
    "        [1,2,3],\n",
    "        [4,5,6]\n",
    "    ]\n",
    "])\n",
    "print(arr3)\n",
    "print(arr3.ndim)"
   ]
  },
  {
   "cell_type": "code",
   "execution_count": 17,
   "id": "01baccdf",
   "metadata": {},
   "outputs": [
    {
     "name": "stdout",
     "output_type": "stream",
     "text": [
      "<class 'numpy.ndarray'>\n",
      "<class 'numpy.ndarray'>\n",
      "<class 'numpy.ndarray'>\n",
      "<class 'numpy.ndarray'>\n"
     ]
    }
   ],
   "source": [
    "print(type(arr))\n",
    "print(type(arr1))\n",
    "print(type(arr2))\n",
    "print(type(arr3))"
   ]
  },
  {
   "cell_type": "markdown",
   "id": "194eaaa0",
   "metadata": {},
   "source": [
    "# Numpy Array Shape"
   ]
  },
  {
   "cell_type": "code",
   "execution_count": 17,
   "id": "68f12b73",
   "metadata": {},
   "outputs": [
    {
     "name": "stdout",
     "output_type": "stream",
     "text": [
      "()\n",
      "(5,)\n",
      "(2, 3)\n",
      "(2, 2, 3)\n"
     ]
    }
   ],
   "source": [
    "print(arr.shape)\n",
    "print(arr1.shape)\n",
    "print(arr2.shape)\n",
    "print(arr3.shape)"
   ]
  },
  {
   "cell_type": "markdown",
   "id": "adaffd3f",
   "metadata": {},
   "source": [
    "# Numpy Reshape"
   ]
  },
  {
   "cell_type": "code",
   "execution_count": 18,
   "id": "81b474c9",
   "metadata": {},
   "outputs": [
    {
     "name": "stdout",
     "output_type": "stream",
     "text": [
      "[1 2 3 4 5 6]\n",
      "[[1 2 3]\n",
      " [4 5 6]]\n"
     ]
    }
   ],
   "source": [
    "import numpy as np \n",
    "# Create a Numpy array\n",
    "arr = np.array([1,2,3,4,5,6])\n",
    "print(arr)\n",
    "# Reshaping the array to 2*3 matrix\n",
    "reshape_Arr=arr.reshape(2,3)\n",
    "print(reshape_Arr)"
   ]
  },
  {
   "cell_type": "markdown",
   "id": "12b7e8e8",
   "metadata": {},
   "source": [
    "# NumPy Array Indexing"
   ]
  },
  {
   "cell_type": "code",
   "execution_count": 21,
   "id": "12101ef8",
   "metadata": {},
   "outputs": [],
   "source": [
    "arr = np.array([1,1.5,'True',True])"
   ]
  },
  {
   "cell_type": "code",
   "execution_count": null,
   "id": "f4388961",
   "metadata": {},
   "outputs": [],
   "source": []
  },
  {
   "cell_type": "code",
   "execution_count": 23,
   "id": "fa9e6a0a",
   "metadata": {},
   "outputs": [
    {
     "data": {
      "text/plain": [
       "array(['1', '1.5', 'True', 'True'], dtype='<U32')"
      ]
     },
     "execution_count": 23,
     "metadata": {},
     "output_type": "execute_result"
    }
   ],
   "source": [
    "arr = np.array([1,1.5,'True',True])\n",
    "arr"
   ]
  },
  {
   "cell_type": "code",
   "execution_count": 24,
   "id": "c4e5a4e0",
   "metadata": {},
   "outputs": [
    {
     "name": "stdout",
     "output_type": "stream",
     "text": [
      "1\n",
      "6\n"
     ]
    }
   ],
   "source": [
    "arr=np.array([1,2,3,4,5])\n",
    "print(arr[0])\n",
    "print(arr[1]+arr[3])"
   ]
  },
  {
   "cell_type": "code",
   "execution_count": 25,
   "id": "0816fc8f",
   "metadata": {},
   "outputs": [
    {
     "name": "stdout",
     "output_type": "stream",
     "text": [
      "2\n"
     ]
    }
   ],
   "source": [
    "# Access 2D Arrays\n",
    "arr2=np.array([\n",
    "    [1,2,3],\n",
    "    [4,5,6]\n",
    "])\n",
    "print(arr2[0,1])"
   ]
  },
  {
   "cell_type": "code",
   "execution_count": 27,
   "id": "4d8c36d7",
   "metadata": {},
   "outputs": [
    {
     "name": "stdout",
     "output_type": "stream",
     "text": [
      "6\n"
     ]
    }
   ],
   "source": [
    "#3-D arrays\n",
    "arr3=np.array([\n",
    "    [\n",
    "        [1,2,3],\n",
    "        [4,5,6]\n",
    "    ],\n",
    "    [\n",
    "        [1,2,3],\n",
    "        [4,5,6]\n",
    "    ]\n",
    "])\n",
    "print(arr3[0,1,2])"
   ]
  },
  {
   "cell_type": "code",
   "execution_count": 29,
   "id": "6cc68d83",
   "metadata": {},
   "outputs": [
    {
     "name": "stdout",
     "output_type": "stream",
     "text": [
      "4\n",
      "8\n"
     ]
    }
   ],
   "source": [
    "#Negetive Indexing\n",
    "arr=np.array([\n",
    "    [1,2,3,4,5],\n",
    "    [6,7,8,8,10]\n",
    "])\n",
    "print(arr[0,-2])\n",
    "print(arr[1,-3])"
   ]
  },
  {
   "cell_type": "markdown",
   "id": "6340b232",
   "metadata": {},
   "source": [
    "# Numpy Array Lterating"
   ]
  },
  {
   "cell_type": "code",
   "execution_count": 35,
   "id": "7c2b3cfe",
   "metadata": {},
   "outputs": [
    {
     "name": "stdout",
     "output_type": "stream",
     "text": [
      "1\n",
      "2\n",
      "3\n",
      "4\n",
      "5\n",
      "6\n",
      "7\n",
      "8\n",
      "9\n",
      "10\n"
     ]
    }
   ],
   "source": [
    "# For Loop\n",
    "import numpy as np\n",
    "arr = np.array([\n",
    "    [1,2,3,4,5],\n",
    "    [6,7,8,9,10]\n",
    "])\n",
    "#Lterating through a 2D array using a nested loop\n",
    "for row in arr:\n",
    "    for item in row:\n",
    "        print(item)"
   ]
  },
  {
   "cell_type": "code",
   "execution_count": 31,
   "id": "7103ee9f",
   "metadata": {},
   "outputs": [
    {
     "name": "stdout",
     "output_type": "stream",
     "text": [
      "1\n",
      "2\n",
      "3\n"
     ]
    }
   ],
   "source": [
    "#1D array // python dynamic memory numpy\n",
    "arr = np.array([1,2,3])\n",
    "for i in arr:\n",
    "    print(i)"
   ]
  },
  {
   "cell_type": "code",
   "execution_count": 36,
   "id": "1904a869",
   "metadata": {
    "scrolled": true
   },
   "outputs": [
    {
     "name": "stdout",
     "output_type": "stream",
     "text": [
      "1\n",
      "2\n",
      "3\n",
      "4\n",
      "5\n",
      "6\n",
      "1\n",
      "2\n",
      "3\n",
      "4\n",
      "5\n",
      "6\n"
     ]
    }
   ],
   "source": [
    "#3D iter\n",
    "\n",
    "arr3=np.array([\n",
    "    [\n",
    "        [1,2,3],\n",
    "        [4,5,6]\n",
    "    ],\n",
    "    [\n",
    "        [1,2,3],\n",
    "        [4,5,6]\n",
    "    ]\n",
    "])\n",
    "for x in arr3:\n",
    "    for y in x:\n",
    "        for z in y:\n",
    "            print(z)"
   ]
  },
  {
   "cell_type": "markdown",
   "id": "a6a81369",
   "metadata": {},
   "source": [
    "# Numpy Array Slicing"
   ]
  },
  {
   "cell_type": "code",
   "execution_count": 18,
   "id": "f3fc8456",
   "metadata": {},
   "outputs": [
    {
     "name": "stdout",
     "output_type": "stream",
     "text": [
      "[1 2 3 4 5 6]\n",
      "[3 4 5]\n",
      "[4 5 6 7 8 9]\n",
      "[1 3 5 7 9]\n",
      "[3 5 7 9]\n"
     ]
    }
   ],
   "source": [
    "#Creating a Numpy array\n",
    "\n",
    "arr=np.array([1,2,3,4,5,6,7,8,9])\n",
    "#slicing from beginning to index 6\n",
    "s1=arr[:6]\n",
    "print(s1)\n",
    "\n",
    "#slicing form index2 to index5 \n",
    "s2=arr[2:5]\n",
    "print(s2)\n",
    "\n",
    "#Slicing from index 3 to end \n",
    "s3 = arr[3:]\n",
    "print(s3)\n",
    "\n",
    "#Slicing with a step of 2\n",
    "s4=arr[::2]\n",
    "print(s4)\n",
    "\n",
    "#slicing with start:end:step\n",
    "s5=arr[2::2]\n",
    "print(s5)"
   ]
  },
  {
   "cell_type": "code",
   "execution_count": 41,
   "id": "20e3064c",
   "metadata": {},
   "outputs": [
    {
     "name": "stdout",
     "output_type": "stream",
     "text": [
      "[4 5 6]\n",
      "[2 5 8]\n",
      "[[2 3]\n",
      " [5 6]]\n"
     ]
    }
   ],
   "source": [
    "#Creating a 2D numpy array and Apply Slicing\n",
    "arr_2d=np.array([\n",
    "    [1,2,3],\n",
    "    [4,5,6],\n",
    "    [7,8,9]\n",
    "])\n",
    "\n",
    "#slicing rows\n",
    "row=arr_2d[1]\n",
    "print(row)\n",
    "\n",
    "#slicing col\n",
    "col=arr_2d[:,1]\n",
    "print(col)\n",
    "\n",
    "#Slicing a sub-matrix\n",
    "# i want 1st 2 rows and col 2 and 3 \n",
    "matrix = arr_2d[:2,1:]\n",
    "print(matrix)"
   ]
  },
  {
   "cell_type": "markdown",
   "id": "84d53ef4",
   "metadata": {},
   "source": [
    "# Numpy DataType"
   ]
  },
  {
   "cell_type": "code",
   "execution_count": 45,
   "id": "634db23d",
   "metadata": {},
   "outputs": [
    {
     "name": "stdout",
     "output_type": "stream",
     "text": [
      "int32\n",
      "float64\n"
     ]
    }
   ],
   "source": [
    "a = np.array([1,2,3])\n",
    "print(a.dtype)\n",
    "b=np.array([1.5,13.6])\n",
    "print(b.dtype)"
   ]
  },
  {
   "cell_type": "code",
   "execution_count": 48,
   "id": "798f07f7",
   "metadata": {},
   "outputs": [
    {
     "name": "stdout",
     "output_type": "stream",
     "text": [
      "[1 2 3] int32\n",
      "[1.5 2.7 9.7] float32\n"
     ]
    }
   ],
   "source": [
    "#Specifying data types in numpy arrays\n",
    "arr_int32 = np.array([1,2,3],dtype=np.int32 )\n",
    "arr_float32=np.array([1.5,2.7,9.7],dtype=np.float32)\n",
    "print(arr_int32,arr_int32.dtype)\n",
    "print(arr_float32,arr_float32.dtype)"
   ]
  },
  {
   "cell_type": "code",
   "execution_count": 49,
   "id": "28361095",
   "metadata": {},
   "outputs": [
    {
     "name": "stdout",
     "output_type": "stream",
     "text": [
      "float64\n"
     ]
    }
   ],
   "source": [
    "#Convertion between data type \n",
    "arr= np.array([1,23,3])\n",
    "arr_float64=arr.astype(np.float64)\n",
    "print(arr_float64.dtype)"
   ]
  },
  {
   "cell_type": "markdown",
   "id": "af7f161a",
   "metadata": {},
   "source": [
    "# Joining NumPy Arrays"
   ]
  },
  {
   "cell_type": "code",
   "execution_count": 50,
   "id": "b84d63e3",
   "metadata": {},
   "outputs": [
    {
     "data": {
      "text/plain": [
       "array([1, 2, 3, 4, 5])"
      ]
     },
     "execution_count": 50,
     "metadata": {},
     "output_type": "execute_result"
    }
   ],
   "source": [
    "#Concatenation using np.concatenate\n",
    "arr1=np.array([1,2,3])\n",
    "arr2=np.array([4,5])\n",
    "result = np.concatenate((arr1,arr2))\n",
    "result "
   ]
  },
  {
   "cell_type": "markdown",
   "id": "48b26b6e",
   "metadata": {},
   "source": [
    "# Slitting NumpyArrays"
   ]
  },
  {
   "cell_type": "code",
   "execution_count": 54,
   "id": "6735435b",
   "metadata": {},
   "outputs": [
    {
     "data": {
      "text/plain": [
       "array([1, 2, 3, 4, 5, 6, 7, 8, 9])"
      ]
     },
     "execution_count": 54,
     "metadata": {},
     "output_type": "execute_result"
    }
   ],
   "source": [
    "#Creating data using np.arrange\n",
    "arr = np.arange(1,10)\n",
    "arr"
   ]
  },
  {
   "cell_type": "code",
   "execution_count": 19,
   "id": "1d2e9cc1",
   "metadata": {},
   "outputs": [
    {
     "data": {
      "text/plain": [
       "[array([1, 2, 3]), array([4, 5, 6]), array([7, 8, 9])]"
      ]
     },
     "execution_count": 19,
     "metadata": {},
     "output_type": "execute_result"
    }
   ],
   "source": [
    "# Splitting the array into 3 equals parts\n",
    "split_arr=np.split(arr,3)\n",
    "split_arr"
   ]
  },
  {
   "cell_type": "code",
   "execution_count": 20,
   "id": "e9eb7108",
   "metadata": {},
   "outputs": [
    {
     "data": {
      "text/plain": [
       "[array([1, 2, 3]), array([4, 5]), array([6, 7]), array([8, 9])]"
      ]
     },
     "execution_count": 20,
     "metadata": {},
     "output_type": "execute_result"
    }
   ],
   "source": [
    "# Unqual splitting with np.array_split\n",
    "unequal_split=np.array_split(arr,4)\n",
    "unequal_split"
   ]
  },
  {
   "cell_type": "markdown",
   "id": "a023e6fa",
   "metadata": {},
   "source": [
    "# NumPy Searching Arrays"
   ]
  },
  {
   "cell_type": "code",
   "execution_count": 55,
   "id": "f1e6c486",
   "metadata": {},
   "outputs": [
    {
     "data": {
      "text/plain": [
       "(array([3, 4, 5, 6, 7, 8], dtype=int64),)"
      ]
     },
     "execution_count": 55,
     "metadata": {},
     "output_type": "execute_result"
    }
   ],
   "source": [
    "#np.where\n",
    "arr=np.arange(1,10)\n",
    "#finding indices where the value is greater than 3\n",
    "index = np.where(arr>3)\n",
    "index"
   ]
  },
  {
   "cell_type": "code",
   "execution_count": 60,
   "id": "98815724",
   "metadata": {},
   "outputs": [
    {
     "data": {
      "text/plain": [
       "(array([3, 5], dtype=int64),)"
      ]
     },
     "execution_count": 60,
     "metadata": {},
     "output_type": "execute_result"
    }
   ],
   "source": [
    "arr=np.array([1,1,2,32,5,43])\n",
    "#finding indices where the value is greater than 12 \n",
    "index=np.where(arr>12)\n",
    "index"
   ]
  },
  {
   "cell_type": "markdown",
   "id": "3c80336f",
   "metadata": {},
   "source": [
    "# Array Masking "
   ]
  },
  {
   "cell_type": "code",
   "execution_count": 61,
   "id": "f4622705",
   "metadata": {},
   "outputs": [
    {
     "data": {
      "text/plain": [
       "array([32, 43])"
      ]
     },
     "execution_count": 61,
     "metadata": {},
     "output_type": "execute_result"
    }
   ],
   "source": [
    "#Create a boolean mask\n",
    "mask = arr>12\n",
    "filtered_values = arr[mask]\n",
    "filtered_values"
   ]
  },
  {
   "cell_type": "code",
   "execution_count": 62,
   "id": "23896f0b",
   "metadata": {},
   "outputs": [
    {
     "data": {
      "text/plain": [
       "array([ 1,  3,  4,  5, 10])"
      ]
     },
     "execution_count": 62,
     "metadata": {},
     "output_type": "execute_result"
    }
   ],
   "source": [
    "arr = np.array([1,3,4,5,10])\n",
    "sorted_arr=np.sort(arr)\n",
    "sorted_arr"
   ]
  },
  {
   "cell_type": "code",
   "execution_count": 63,
   "id": "9ba1c73f",
   "metadata": {},
   "outputs": [
    {
     "data": {
      "text/plain": [
       "array([10,  5,  4,  3,  1])"
      ]
     },
     "execution_count": 63,
     "metadata": {},
     "output_type": "execute_result"
    }
   ],
   "source": [
    "ulta_sort=np.sort(arr)[::-1]\n",
    "ulta_sort"
   ]
  },
  {
   "cell_type": "code",
   "execution_count": 65,
   "id": "c4e120a3",
   "metadata": {},
   "outputs": [
    {
     "data": {
      "text/plain": [
       "array([[1, 3, 4],\n",
       "       [2, 3, 5]])"
      ]
     },
     "execution_count": 65,
     "metadata": {},
     "output_type": "execute_result"
    }
   ],
   "source": [
    "arr_2d=np.array([[3,1,4],[2,5,3]])\n",
    "#sorting along rows(axis=1)\n",
    "sorted_rows=np.sort(arr_2d,axis=1)\n",
    "sorted_rows"
   ]
  },
  {
   "cell_type": "code",
   "execution_count": 27,
   "id": "76dbab66",
   "metadata": {},
   "outputs": [
    {
     "data": {
      "text/plain": [
       "array([[2, 1, 3],\n",
       "       [3, 5, 4]])"
      ]
     },
     "execution_count": 27,
     "metadata": {},
     "output_type": "execute_result"
    }
   ],
   "source": [
    "arr_2d=np.array([[3,1,4],[2,5,3]])\n",
    "#sorting along col(axis=0)\n",
    "#sorting along row(axis=1)\n",
    "sorted_rows=np.sort(arr_2d,axis=0)\n",
    "sorted_rows"
   ]
  },
  {
   "cell_type": "code",
   "execution_count": 26,
   "id": "df1d4fc2",
   "metadata": {},
   "outputs": [
    {
     "data": {
      "text/plain": [
       "array([[1, 3, 4],\n",
       "       [2, 3, 5]])"
      ]
     },
     "execution_count": 26,
     "metadata": {},
     "output_type": "execute_result"
    }
   ],
   "source": [
    "#Sort along cols (axis-0)\n",
    "sorted_rows = np.sort(arr_2d,axis=1)\n",
    "sorted_rows"
   ]
  },
  {
   "cell_type": "markdown",
   "id": "5320963e",
   "metadata": {},
   "source": [
    "# Array Operations\n"
   ]
  },
  {
   "cell_type": "code",
   "execution_count": 67,
   "id": "f546f917",
   "metadata": {},
   "outputs": [
    {
     "data": {
      "text/plain": [
       "array([2, 4, 6])"
      ]
     },
     "execution_count": 67,
     "metadata": {},
     "output_type": "execute_result"
    }
   ],
   "source": [
    "arr1=np.array([1,2,3])\n",
    "arr2=np.array([1,2,3])\n",
    "\n",
    "add = arr1+arr2\n",
    "add"
   ]
  },
  {
   "cell_type": "code",
   "execution_count": 68,
   "id": "52163229",
   "metadata": {},
   "outputs": [
    {
     "data": {
      "text/plain": [
       "array([1, 4, 9])"
      ]
     },
     "execution_count": 68,
     "metadata": {},
     "output_type": "execute_result"
    }
   ],
   "source": [
    "arr1=np.array([1,2,3])\n",
    "arr2=np.array([1,2,3])\n",
    "\n",
    "add = arr1*arr2\n",
    "add"
   ]
  },
  {
   "cell_type": "code",
   "execution_count": 70,
   "id": "4c2dd1de",
   "metadata": {},
   "outputs": [
    {
     "data": {
      "text/plain": [
       "array([1.        , 1.41421356, 1.73205081])"
      ]
     },
     "execution_count": 70,
     "metadata": {},
     "output_type": "execute_result"
    }
   ],
   "source": [
    "arr1 = np.array([1,2,3])\n",
    "arr2 = np.array([1,2,3])\n",
    "\n",
    "sqrt=np.sqrt(arr1)\n",
    "sqrt"
   ]
  },
  {
   "cell_type": "code",
   "execution_count": 71,
   "id": "27f783b7",
   "metadata": {},
   "outputs": [
    {
     "data": {
      "text/plain": [
       "array([[11, 12, 13],\n",
       "       [14, 15, 16]])"
      ]
     },
     "execution_count": 71,
     "metadata": {},
     "output_type": "execute_result"
    }
   ],
   "source": [
    "arr= np.array([[1,2,3],[4,5,6]])\n",
    "scalar=10\n",
    "result = arr+scalar\n",
    "result"
   ]
  },
  {
   "cell_type": "code",
   "execution_count": 72,
   "id": "db2fec95",
   "metadata": {},
   "outputs": [
    {
     "data": {
      "text/plain": [
       "array([[11, 22, 33],\n",
       "       [14, 25, 36]])"
      ]
     },
     "execution_count": 72,
     "metadata": {},
     "output_type": "execute_result"
    }
   ],
   "source": [
    "row_to_add= np.array([10,20,30])\n",
    "res=arr+row_to_add\n",
    "res"
   ]
  },
  {
   "cell_type": "markdown",
   "id": "a55eed89",
   "metadata": {},
   "source": [
    "## Descriptive Statistics"
   ]
  },
  {
   "cell_type": "markdown",
   "id": "f593c6af",
   "metadata": {},
   "source": [
    "### Mean,Median,Variance and Standard Deviation"
   ]
  },
  {
   "cell_type": "code",
   "execution_count": 1,
   "id": "42cf9b37",
   "metadata": {},
   "outputs": [
    {
     "name": "stdout",
     "output_type": "stream",
     "text": [
      "30.0\n",
      "30.0\n",
      "200.0\n",
      "14.142135623730951\n"
     ]
    }
   ],
   "source": [
    "import numpy as np\n",
    "data = np.array([10,20,30,40,50])\n",
    "#mean\n",
    "mean = np.mean(data)\n",
    "median = np.median(data)\n",
    "variance=np.var(data)\n",
    "std_dev=np.std(data)\n",
    "\n",
    "print(mean)\n",
    "print(median)\n",
    "print(variance)\n",
    "print(std_dev)"
   ]
  },
  {
   "cell_type": "code",
   "execution_count": 75,
   "id": "802f2214",
   "metadata": {},
   "outputs": [
    {
     "data": {
      "text/plain": [
       "2"
      ]
     },
     "execution_count": 75,
     "metadata": {},
     "output_type": "execute_result"
    }
   ],
   "source": [
    "data=np.array([1,2,np.nan,4,5,np.nan,7])\n",
    "\n",
    "#checkking for NAN values\n",
    "nan_count=np.sum(np.isnan(data))\n",
    "nan_count"
   ]
  },
  {
   "cell_type": "code",
   "execution_count": 76,
   "id": "aa9c0693",
   "metadata": {},
   "outputs": [
    {
     "data": {
      "text/plain": [
       "array([1., 2., 4., 5., 7.])"
      ]
     },
     "execution_count": 76,
     "metadata": {},
     "output_type": "execute_result"
    }
   ],
   "source": [
    "# Removing NaN Values\n",
    "data_cleaned = data[~np.isnan(data)]\n",
    "data_cleaned"
   ]
  },
  {
   "cell_type": "markdown",
   "id": "e62c358b",
   "metadata": {},
   "source": [
    "# Handing missing values\n"
   ]
  },
  {
   "cell_type": "code",
   "execution_count": 78,
   "id": "c90a862c",
   "metadata": {},
   "outputs": [
    {
     "data": {
      "text/plain": [
       "array([1. , 2. , 3.8, 4. , 5. , 3.8, 7. ])"
      ]
     },
     "execution_count": 78,
     "metadata": {},
     "output_type": "execute_result"
    }
   ],
   "source": [
    "#calculate mean values excluding all nan\n",
    "mean = np.nanmean(data)\n",
    "#replacing nan values with mean value\n",
    "data_filled = np.where(np.isnan(data),mean,data)\n",
    "data_filled"
   ]
  },
  {
   "cell_type": "code",
   "execution_count": null,
   "id": "15e1f761",
   "metadata": {},
   "outputs": [],
   "source": []
  }
 ],
 "metadata": {
  "kernelspec": {
   "display_name": "Python 3 (ipykernel)",
   "language": "python",
   "name": "python3"
  },
  "language_info": {
   "codemirror_mode": {
    "name": "ipython",
    "version": 3
   },
   "file_extension": ".py",
   "mimetype": "text/x-python",
   "name": "python",
   "nbconvert_exporter": "python",
   "pygments_lexer": "ipython3",
   "version": "3.11.5"
  }
 },
 "nbformat": 4,
 "nbformat_minor": 5
}

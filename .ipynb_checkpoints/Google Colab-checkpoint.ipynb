{
 "cells": [
  {
   "cell_type": "markdown",
   "id": "60c01416",
   "metadata": {},
   "source": [
    "# This is a introductory part of Google Colab\n",
    "\n",
    "`Google Colab Link` [Link](https://colab.research.google.com/drive/1KRn1E1bP57hz7rcyzkGsuaho_4zTcV68#scrollTo=7uyFpkO_tK0X)"
   ]
  },
  {
   "cell_type": "code",
   "execution_count": null,
   "id": "33ece366",
   "metadata": {},
   "outputs": [],
   "source": []
  }
 ],
 "metadata": {
  "kernelspec": {
   "display_name": "Python 3 (ipykernel)",
   "language": "python",
   "name": "python3"
  },
  "language_info": {
   "codemirror_mode": {
    "name": "ipython",
    "version": 3
   },
   "file_extension": ".py",
   "mimetype": "text/x-python",
   "name": "python",
   "nbconvert_exporter": "python",
   "pygments_lexer": "ipython3",
   "version": "3.11.5"
  }
 },
 "nbformat": 4,
 "nbformat_minor": 5
}

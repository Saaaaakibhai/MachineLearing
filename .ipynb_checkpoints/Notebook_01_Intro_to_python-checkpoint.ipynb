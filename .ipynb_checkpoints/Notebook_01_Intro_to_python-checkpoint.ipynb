{
 "cells": [
  {
   "cell_type": "markdown",
   "id": "d714729e",
   "metadata": {},
   "source": [
    "# Introduction to Python"
   ]
  },
  {
   "cell_type": "markdown",
   "id": "216683e3",
   "metadata": {},
   "source": [
    "## Python Comment"
   ]
  },
  {
   "cell_type": "code",
   "execution_count": 1,
   "id": "f8f8b8fb",
   "metadata": {},
   "outputs": [],
   "source": [
    "# this is a single line comment "
   ]
  },
  {
   "cell_type": "code",
   "execution_count": 4,
   "id": "277bd128",
   "metadata": {},
   "outputs": [
    {
     "data": {
      "text/plain": [
       "'\\nThis is a multiline\\n'"
      ]
     },
     "execution_count": 4,
     "metadata": {},
     "output_type": "execute_result"
    }
   ],
   "source": [
    "\"\"\"\n",
    "This is a multiline\n",
    "\"\"\""
   ]
  },
  {
   "cell_type": "markdown",
   "id": "cec6e9a1",
   "metadata": {},
   "source": [
    "## Python Variables"
   ]
  },
  {
   "cell_type": "code",
   "execution_count": 5,
   "id": "4e60a7e3",
   "metadata": {},
   "outputs": [],
   "source": [
    "# Assigning values to variables\n",
    "age = 35\n",
    "name = \"Sakib\"\n",
    "is_student = True\n",
    "cgpa = 3.75\n"
   ]
  },
  {
   "cell_type": "markdown",
   "id": "591457b5",
   "metadata": {},
   "source": [
    "## Python Data Type"
   ]
  },
  {
   "cell_type": "code",
   "execution_count": 6,
   "id": "7b6efb11",
   "metadata": {},
   "outputs": [
    {
     "name": "stdout",
     "output_type": "stream",
     "text": [
      "<class 'int'>\n"
     ]
    }
   ],
   "source": [
    "# Integer type\n",
    "num=10\n",
    "print(type(num))"
   ]
  },
  {
   "cell_type": "code",
   "execution_count": 7,
   "id": "a763b49d",
   "metadata": {},
   "outputs": [
    {
     "name": "stdout",
     "output_type": "stream",
     "text": [
      "<class 'float'>\n"
     ]
    }
   ],
   "source": [
    "#Float type\n",
    "pi=3.14\n",
    "print(type(pi))"
   ]
  },
  {
   "cell_type": "code",
   "execution_count": 8,
   "id": "ab61cbb8",
   "metadata": {},
   "outputs": [
    {
     "name": "stdout",
     "output_type": "stream",
     "text": [
      "<class 'str'>\n"
     ]
    }
   ],
   "source": [
    "# String type\n",
    "str = \"ML\"\n",
    "print(type(str))"
   ]
  },
  {
   "cell_type": "code",
   "execution_count": 9,
   "id": "0c97ba85",
   "metadata": {},
   "outputs": [
    {
     "name": "stdout",
     "output_type": "stream",
     "text": [
      "<class 'bool'>\n"
     ]
    }
   ],
   "source": [
    "# boolean type\n",
    "is_true=False\n",
    "print(type(is_true))"
   ]
  },
  {
   "cell_type": "markdown",
   "id": "d77ece13",
   "metadata": {},
   "source": [
    "## Python Casting"
   ]
  },
  {
   "cell_type": "code",
   "execution_count": 10,
   "id": "cadb6055",
   "metadata": {},
   "outputs": [],
   "source": [
    "#Specify a variable type\n",
    "x=int(1)\n",
    "y=int(2.5)\n",
    "z=int(\"5\")"
   ]
  },
  {
   "cell_type": "code",
   "execution_count": 12,
   "id": "e1a514b9",
   "metadata": {},
   "outputs": [
    {
     "name": "stdout",
     "output_type": "stream",
     "text": [
      "1\n",
      "1\n"
     ]
    }
   ],
   "source": [
    "print(x)\n",
    "print(x)"
   ]
  },
  {
   "cell_type": "code",
   "execution_count": 13,
   "id": "084d1227",
   "metadata": {},
   "outputs": [
    {
     "name": "stdout",
     "output_type": "stream",
     "text": [
      "1\n",
      "2\n",
      "5\n"
     ]
    }
   ],
   "source": [
    "print(x)\n",
    "print(y)\n",
    "print(z)"
   ]
  },
  {
   "cell_type": "code",
   "execution_count": 14,
   "id": "4fb1aec2",
   "metadata": {},
   "outputs": [
    {
     "name": "stdout",
     "output_type": "stream",
     "text": [
      "<class 'int'>\n",
      "<class 'int'>\n",
      "<class 'int'>\n"
     ]
    }
   ],
   "source": [
    "print(type(x))\n",
    "print(type(y))\n",
    "print(type(z))"
   ]
  },
  {
   "cell_type": "markdown",
   "id": "312b2080",
   "metadata": {},
   "source": [
    "## Python Input/Output"
   ]
  },
  {
   "cell_type": "code",
   "execution_count": 15,
   "id": "64385536",
   "metadata": {},
   "outputs": [
    {
     "name": "stdout",
     "output_type": "stream",
     "text": [
      "S M Mahedi Hasan\n",
      "S M Mahedi Hasan\n"
     ]
    }
   ],
   "source": [
    "#taking user input\n",
    "name=input()\n",
    "print(name)"
   ]
  },
  {
   "cell_type": "code",
   "execution_count": 16,
   "id": "f9c9f0a0",
   "metadata": {},
   "outputs": [
    {
     "name": "stdout",
     "output_type": "stream",
     "text": [
      "Enter your name: Sakib Nerd\n",
      "Sakib Nerd\n"
     ]
    }
   ],
   "source": [
    "#taking user input\n",
    "name = input(\"Enter your name: \")\n",
    "print(name)"
   ]
  },
  {
   "cell_type": "code",
   "execution_count": 17,
   "id": "24e5bd7b",
   "metadata": {},
   "outputs": [
    {
     "name": "stdout",
     "output_type": "stream",
     "text": [
      "Enter any number: 5\n",
      "5\n",
      "<class 'str'>\n"
     ]
    }
   ],
   "source": [
    "# Input Type\n",
    "number = input (\"Enter any number: \")\n",
    "print(number)\n",
    "print(type(number))"
   ]
  },
  {
   "cell_type": "code",
   "execution_count": 18,
   "id": "b205d0aa",
   "metadata": {},
   "outputs": [
    {
     "ename": "SyntaxError",
     "evalue": "'(' was never closed (3853033001.py, line 2)",
     "output_type": "error",
     "traceback": [
      "\u001b[1;36m  Cell \u001b[1;32mIn[18], line 2\u001b[1;36m\u001b[0m\n\u001b[1;33m    num=float(input(\"Enter a number:\")\u001b[0m\n\u001b[1;37m             ^\u001b[0m\n\u001b[1;31mSyntaxError\u001b[0m\u001b[1;31m:\u001b[0m '(' was never closed\n"
     ]
    }
   ],
   "source": [
    "#Reading numeric inputs\n",
    "num=float(input(\"Enter a number:\")\n",
    "          print(type(num))\n",
    "          print(num)\n",
    "          "
   ]
  },
  {
   "cell_type": "code",
   "execution_count": 19,
   "id": "0c659e41",
   "metadata": {},
   "outputs": [
    {
     "ename": "IndentationError",
     "evalue": "unexpected indent (387588308.py, line 3)",
     "output_type": "error",
     "traceback": [
      "\u001b[1;36m  Cell \u001b[1;32mIn[19], line 3\u001b[1;36m\u001b[0m\n\u001b[1;33m    print(type(num))\u001b[0m\n\u001b[1;37m    ^\u001b[0m\n\u001b[1;31mIndentationError\u001b[0m\u001b[1;31m:\u001b[0m unexpected indent\n"
     ]
    }
   ],
   "source": [
    "#Reading numeric inputs\n",
    "num=float(input(\"Enter a number:\"))\n",
    "          print(type(num))\n",
    "          print(num)"
   ]
  },
  {
   "cell_type": "code",
   "execution_count": 20,
   "id": "ffb46685",
   "metadata": {},
   "outputs": [
    {
     "name": "stdout",
     "output_type": "stream",
     "text": [
      "Enter a number:5\n",
      "<class 'float'>\n",
      "5.0\n"
     ]
    }
   ],
   "source": [
    "#Reading numeric inputs\n",
    "num = float(input(\"Enter a number:\"))\n",
    "print(type(num))\n",
    "print(num)"
   ]
  },
  {
   "cell_type": "code",
   "execution_count": 21,
   "id": "6ab6860f",
   "metadata": {},
   "outputs": [
    {
     "name": "stdout",
     "output_type": "stream",
     "text": [
      "Enter two number: 1 2\n",
      "1 2\n"
     ]
    }
   ],
   "source": [
    "## Taking multiple inputs in a single line\n",
    "x,y = input(\"Enter two number: \").split()\n",
    "print(x,y)"
   ]
  },
  {
   "cell_type": "markdown",
   "id": "6c82c513",
   "metadata": {},
   "source": [
    "## Python Strings"
   ]
  },
  {
   "cell_type": "code",
   "execution_count": 22,
   "id": "7781eb50",
   "metadata": {},
   "outputs": [
    {
     "name": "stdout",
     "output_type": "stream",
     "text": [
      "ML ML\n"
     ]
    }
   ],
   "source": [
    "#single quoted string\n",
    "single = 'ML'\n",
    "#double quated string\n",
    "double = \"ML\"\n",
    "print(single,double)"
   ]
  },
  {
   "cell_type": "code",
   "execution_count": 23,
   "id": "107fb454",
   "metadata": {},
   "outputs": [
    {
     "name": "stdout",
     "output_type": "stream",
     "text": [
      "ML     Cse\n"
     ]
    }
   ],
   "source": [
    "#String concatanation\n",
    "str1 = \"ML\"\n",
    "str2 = \"Cse\"\n",
    "print(str1,'   ',str2)"
   ]
  },
  {
   "cell_type": "code",
   "execution_count": 25,
   "id": "46168a60",
   "metadata": {},
   "outputs": [
    {
     "name": "stdout",
     "output_type": "stream",
     "text": [
      "ML Cse?ML Cse!ML- -CseRoppo"
     ]
    }
   ],
   "source": [
    "print(str1,' ',str2,sep='',end='?')\n",
    "##separated by comma\n",
    "print(str1,' ',str2,sep='',end='!')\n",
    "\n",
    "print(str1,' ',str2,sep='-',end='Roppo')"
   ]
  },
  {
   "cell_type": "code",
   "execution_count": 26,
   "id": "7c40a0fb",
   "metadata": {},
   "outputs": [
    {
     "name": "stdout",
     "output_type": "stream",
     "text": [
      "ML Cse?ML Cse!ML- -CseRoppo"
     ]
    }
   ],
   "source": [
    "print(str1,' ',str2,sep='',end='?')\n",
    "##separated by comma\n",
    "print(str1,' ',str2,sep='',end='!')\n",
    "\n",
    "print(str1,' ',str2,sep='-',end='Roppo')"
   ]
  },
  {
   "cell_type": "code",
   "execution_count": 27,
   "id": "523c230c",
   "metadata": {},
   "outputs": [
    {
     "data": {
      "text/plain": [
       "2"
      ]
     },
     "execution_count": 27,
     "metadata": {},
     "output_type": "execute_result"
    }
   ],
   "source": [
    "#length\n",
    "len(str1)"
   ]
  },
  {
   "cell_type": "code",
   "execution_count": 28,
   "id": "393cc6bc",
   "metadata": {},
   "outputs": [
    {
     "name": "stdout",
     "output_type": "stream",
     "text": [
      "2\n",
      "3\n"
     ]
    }
   ],
   "source": [
    "print(len(str1))\n",
    "print(len(str2))"
   ]
  },
  {
   "cell_type": "code",
   "execution_count": 29,
   "id": "8238dae9",
   "metadata": {},
   "outputs": [
    {
     "name": "stdout",
     "output_type": "stream",
     "text": [
      "2\n",
      "3\n"
     ]
    }
   ],
   "source": [
    "print(len(str1))\n",
    "print(len(str2))"
   ]
  },
  {
   "cell_type": "code",
   "execution_count": 30,
   "id": "642ed08c",
   "metadata": {},
   "outputs": [
    {
     "data": {
      "text/plain": [
       "'L'"
      ]
     },
     "execution_count": 30,
     "metadata": {},
     "output_type": "execute_result"
    }
   ],
   "source": [
    "str1 = \"ML\"\n",
    "str[1]"
   ]
  },
  {
   "cell_type": "code",
   "execution_count": 31,
   "id": "fe185e41",
   "metadata": {},
   "outputs": [
    {
     "data": {
      "text/plain": [
       "'Machi'"
      ]
     },
     "execution_count": 31,
     "metadata": {},
     "output_type": "execute_result"
    }
   ],
   "source": [
    "#String Slicing\n",
    "course_name = \"Machine Learning\"\n",
    "course_name[0:5]"
   ]
  },
  {
   "cell_type": "code",
   "execution_count": 32,
   "id": "aa662fcb",
   "metadata": {},
   "outputs": [
    {
     "data": {
      "text/plain": [
       "'Machine'"
      ]
     },
     "execution_count": 32,
     "metadata": {},
     "output_type": "execute_result"
    }
   ],
   "source": [
    "#String Slicing\n",
    "course_name = \"Machine Learning\"\n",
    "course_name[0:5]\n",
    "course_name[:7]"
   ]
  },
  {
   "cell_type": "code",
   "execution_count": 33,
   "id": "deda5994",
   "metadata": {},
   "outputs": [
    {
     "data": {
      "text/plain": [
       "'MACHINE LEARNING'"
      ]
     },
     "execution_count": 33,
     "metadata": {},
     "output_type": "execute_result"
    }
   ],
   "source": [
    "course_name.upper()"
   ]
  },
  {
   "cell_type": "code",
   "execution_count": 34,
   "id": "515ea43c",
   "metadata": {},
   "outputs": [
    {
     "data": {
      "text/plain": [
       "'machine learning'"
      ]
     },
     "execution_count": 34,
     "metadata": {},
     "output_type": "execute_result"
    }
   ],
   "source": [
    "course_name.lower()"
   ]
  },
  {
   "cell_type": "code",
   "execution_count": 35,
   "id": "f8f61549",
   "metadata": {},
   "outputs": [
    {
     "data": {
      "text/plain": [
       "8"
      ]
     },
     "execution_count": 35,
     "metadata": {},
     "output_type": "execute_result"
    }
   ],
   "source": [
    "course_name.find(\"L\")"
   ]
  },
  {
   "cell_type": "code",
   "execution_count": 36,
   "id": "dc48fa86",
   "metadata": {},
   "outputs": [
    {
     "data": {
      "text/plain": [
       "'asdada asda'"
      ]
     },
     "execution_count": 36,
     "metadata": {},
     "output_type": "execute_result"
    }
   ],
   "source": [
    "test=\"  asdada asda\"\n",
    "test.strip()"
   ]
  },
  {
   "cell_type": "code",
   "execution_count": 38,
   "id": "4ce98e7a",
   "metadata": {},
   "outputs": [
    {
     "name": "stdout",
     "output_type": "stream",
     "text": [
      "[1, 2, 3, 4, 5]\n"
     ]
    }
   ],
   "source": [
    "#create lists\n",
    "numbers = [1,2,3,4,5]\n",
    "names=['alice','Bob','abc']\n",
    "mixed=[1,3,5,'abc']\n",
    "print(numbers)"
   ]
  },
  {
   "cell_type": "code",
   "execution_count": 40,
   "id": "8ce2efdb",
   "metadata": {},
   "outputs": [
    {
     "name": "stdout",
     "output_type": "stream",
     "text": [
      "[1, 2, 3, 4, 5]\n",
      "[1, 3, 5, 'abc']\n",
      "['alice', 'Bob', 'abc']\n"
     ]
    }
   ],
   "source": [
    "#create lists\n",
    "numbers = [1,2,3,4,5]\n",
    "names=['alice','Bob','abc']\n",
    "mixed=[1,3,5,'abc']\n",
    "print(numbers)\n",
    "print(mixed)\n",
    "print(names)"
   ]
  },
  {
   "cell_type": "code",
   "execution_count": 43,
   "id": "6f9d035c",
   "metadata": {},
   "outputs": [],
   "source": [
    "numbers.extend([7,8])"
   ]
  },
  {
   "cell_type": "markdown",
   "id": "c3c8b129",
   "metadata": {},
   "source": [
    "numbers"
   ]
  },
  {
   "cell_type": "code",
   "execution_count": 44,
   "id": "0d248add",
   "metadata": {},
   "outputs": [
    {
     "data": {
      "text/plain": [
       "'5'"
      ]
     },
     "execution_count": 44,
     "metadata": {},
     "output_type": "execute_result"
    }
   ],
   "source": [
    "number"
   ]
  },
  {
   "cell_type": "code",
   "execution_count": 45,
   "id": "9ab0c8f0",
   "metadata": {},
   "outputs": [
    {
     "data": {
      "text/plain": [
       "[1, 2, 3, 4, 5, 7, 8, 7, 8]"
      ]
     },
     "execution_count": 45,
     "metadata": {},
     "output_type": "execute_result"
    }
   ],
   "source": [
    "numbers"
   ]
  },
  {
   "cell_type": "code",
   "execution_count": 46,
   "id": "0a87c19e",
   "metadata": {},
   "outputs": [],
   "source": [
    "numbers.reverse()"
   ]
  },
  {
   "cell_type": "code",
   "execution_count": 47,
   "id": "817a62e9",
   "metadata": {},
   "outputs": [
    {
     "data": {
      "text/plain": [
       "[8, 7, 8, 7, 5, 4, 3, 2, 1]"
      ]
     },
     "execution_count": 47,
     "metadata": {},
     "output_type": "execute_result"
    }
   ],
   "source": [
    "numbers"
   ]
  },
  {
   "cell_type": "code",
   "execution_count": 48,
   "id": "975e569c",
   "metadata": {},
   "outputs": [],
   "source": [
    "numbers.sort()"
   ]
  },
  {
   "cell_type": "code",
   "execution_count": 49,
   "id": "4ca97fb4",
   "metadata": {},
   "outputs": [
    {
     "data": {
      "text/plain": [
       "[1, 2, 3, 4, 5, 7, 7, 8, 8]"
      ]
     },
     "execution_count": 49,
     "metadata": {},
     "output_type": "execute_result"
    }
   ],
   "source": [
    "numbers\n"
   ]
  },
  {
   "cell_type": "code",
   "execution_count": 50,
   "id": "bbb0f7a3",
   "metadata": {},
   "outputs": [
    {
     "data": {
      "text/plain": [
       "range(0, 5)"
      ]
     },
     "execution_count": 50,
     "metadata": {},
     "output_type": "execute_result"
    }
   ],
   "source": [
    "range(5)"
   ]
  },
  {
   "cell_type": "code",
   "execution_count": 53,
   "id": "f497dbed",
   "metadata": {},
   "outputs": [
    {
     "ename": "SyntaxError",
     "evalue": "invalid syntax (1813647993.py, line 1)",
     "output_type": "error",
     "traceback": [
      "\u001b[1;36m  Cell \u001b[1;32mIn[53], line 1\u001b[1;36m\u001b[0m\n\u001b[1;33m    for i in range(1:5)\u001b[0m\n\u001b[1;37m                    ^\u001b[0m\n\u001b[1;31mSyntaxError\u001b[0m\u001b[1;31m:\u001b[0m invalid syntax\n"
     ]
    }
   ],
   "source": [
    "for i in range(1:5)"
   ]
  },
  {
   "cell_type": "code",
   "execution_count": null,
   "id": "df54bfe7",
   "metadata": {},
   "outputs": [],
   "source": []
  }
 ],
 "metadata": {
  "kernelspec": {
   "display_name": "Python 3 (ipykernel)",
   "language": "python",
   "name": "python3"
  },
  "language_info": {
   "codemirror_mode": {
    "name": "ipython",
    "version": 3
   },
   "file_extension": ".py",
   "mimetype": "text/x-python",
   "name": "python",
   "nbconvert_exporter": "python",
   "pygments_lexer": "ipython3",
   "version": "3.11.5"
  }
 },
 "nbformat": 4,
 "nbformat_minor": 5
}

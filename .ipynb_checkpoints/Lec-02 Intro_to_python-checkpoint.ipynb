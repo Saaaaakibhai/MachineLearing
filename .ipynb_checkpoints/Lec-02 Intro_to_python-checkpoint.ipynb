{
 "cells": [
  {
   "cell_type": "markdown",
   "id": "d714729e",
   "metadata": {},
   "source": [
    "# Introduction to Python"
   ]
  },
  {
   "cell_type": "markdown",
   "id": "216683e3",
   "metadata": {},
   "source": [
    "## Python Comment"
   ]
  },
  {
   "cell_type": "code",
   "execution_count": 1,
   "id": "f8f8b8fb",
   "metadata": {},
   "outputs": [],
   "source": [
    "# this is a single line comment "
   ]
  },
  {
   "cell_type": "code",
   "execution_count": 4,
   "id": "277bd128",
   "metadata": {},
   "outputs": [
    {
     "data": {
      "text/plain": [
       "'\\nThis is a multiline\\n'"
      ]
     },
     "execution_count": 4,
     "metadata": {},
     "output_type": "execute_result"
    }
   ],
   "source": [
    "\"\"\"\n",
    "This is a multiline\n",
    "\"\"\""
   ]
  },
  {
   "cell_type": "markdown",
   "id": "cec6e9a1",
   "metadata": {},
   "source": [
    "## Python Variables"
   ]
  },
  {
   "cell_type": "code",
   "execution_count": 5,
   "id": "4e60a7e3",
   "metadata": {},
   "outputs": [],
   "source": [
    "# Assigning values to variables\n",
    "age = 35\n",
    "name = \"Sakib\"\n",
    "is_student = True\n",
    "cgpa = 3.75\n"
   ]
  },
  {
   "cell_type": "markdown",
   "id": "591457b5",
   "metadata": {},
   "source": [
    "## Python Data Type"
   ]
  },
  {
   "cell_type": "code",
   "execution_count": 6,
   "id": "7b6efb11",
   "metadata": {},
   "outputs": [
    {
     "name": "stdout",
     "output_type": "stream",
     "text": [
      "<class 'int'>\n"
     ]
    }
   ],
   "source": [
    "# Integer type\n",
    "num=10\n",
    "print(type(num))"
   ]
  },
  {
   "cell_type": "code",
   "execution_count": 7,
   "id": "a763b49d",
   "metadata": {},
   "outputs": [
    {
     "name": "stdout",
     "output_type": "stream",
     "text": [
      "<class 'float'>\n"
     ]
    }
   ],
   "source": [
    "#Float type\n",
    "pi=3.14\n",
    "print(type(pi))"
   ]
  },
  {
   "cell_type": "code",
   "execution_count": 8,
   "id": "ab61cbb8",
   "metadata": {},
   "outputs": [
    {
     "name": "stdout",
     "output_type": "stream",
     "text": [
      "<class 'str'>\n"
     ]
    }
   ],
   "source": [
    "# String type\n",
    "str = \"ML\"\n",
    "print(type(str))"
   ]
  },
  {
   "cell_type": "code",
   "execution_count": 9,
   "id": "0c97ba85",
   "metadata": {},
   "outputs": [
    {
     "name": "stdout",
     "output_type": "stream",
     "text": [
      "<class 'bool'>\n"
     ]
    }
   ],
   "source": [
    "# boolean type\n",
    "is_true=False\n",
    "print(type(is_true))"
   ]
  },
  {
   "cell_type": "markdown",
   "id": "d77ece13",
   "metadata": {},
   "source": [
    "## Python Casting"
   ]
  },
  {
   "cell_type": "code",
   "execution_count": 10,
   "id": "cadb6055",
   "metadata": {},
   "outputs": [],
   "source": [
    "#Specify a variable type\n",
    "x=int(1)\n",
    "y=int(2.5)\n",
    "z=int(\"5\")"
   ]
  },
  {
   "cell_type": "code",
   "execution_count": 12,
   "id": "e1a514b9",
   "metadata": {},
   "outputs": [
    {
     "name": "stdout",
     "output_type": "stream",
     "text": [
      "1\n",
      "1\n"
     ]
    }
   ],
   "source": [
    "print(x)\n",
    "print(x)"
   ]
  },
  {
   "cell_type": "code",
   "execution_count": 13,
   "id": "084d1227",
   "metadata": {},
   "outputs": [
    {
     "name": "stdout",
     "output_type": "stream",
     "text": [
      "1\n",
      "2\n",
      "5\n"
     ]
    }
   ],
   "source": [
    "print(x)\n",
    "print(y)\n",
    "print(z)"
   ]
  },
  {
   "cell_type": "code",
   "execution_count": 14,
   "id": "4fb1aec2",
   "metadata": {},
   "outputs": [
    {
     "name": "stdout",
     "output_type": "stream",
     "text": [
      "<class 'int'>\n",
      "<class 'int'>\n",
      "<class 'int'>\n"
     ]
    }
   ],
   "source": [
    "print(type(x))\n",
    "print(type(y))\n",
    "print(type(z))"
   ]
  },
  {
   "cell_type": "markdown",
   "id": "312b2080",
   "metadata": {},
   "source": [
    "## Python Input/Output"
   ]
  },
  {
   "cell_type": "code",
   "execution_count": 15,
   "id": "64385536",
   "metadata": {},
   "outputs": [
    {
     "name": "stdout",
     "output_type": "stream",
     "text": [
      "S M Mahedi Hasan\n",
      "S M Mahedi Hasan\n"
     ]
    }
   ],
   "source": [
    "#taking user input\n",
    "name=input()\n",
    "print(name)"
   ]
  },
  {
   "cell_type": "code",
   "execution_count": 16,
   "id": "f9c9f0a0",
   "metadata": {},
   "outputs": [
    {
     "name": "stdout",
     "output_type": "stream",
     "text": [
      "Enter your name: Sakib Nerd\n",
      "Sakib Nerd\n"
     ]
    }
   ],
   "source": [
    "#taking user input\n",
    "name = input(\"Enter your name: \")\n",
    "print(name)"
   ]
  },
  {
   "cell_type": "code",
   "execution_count": 17,
   "id": "24e5bd7b",
   "metadata": {},
   "outputs": [
    {
     "name": "stdout",
     "output_type": "stream",
     "text": [
      "Enter any number: 5\n",
      "5\n",
      "<class 'str'>\n"
     ]
    }
   ],
   "source": [
    "# Input Type\n",
    "number = input (\"Enter any number: \")\n",
    "print(number)\n",
    "print(type(number))"
   ]
  },
  {
   "cell_type": "code",
   "execution_count": 18,
   "id": "b205d0aa",
   "metadata": {},
   "outputs": [
    {
     "ename": "SyntaxError",
     "evalue": "'(' was never closed (3853033001.py, line 2)",
     "output_type": "error",
     "traceback": [
      "\u001b[1;36m  Cell \u001b[1;32mIn[18], line 2\u001b[1;36m\u001b[0m\n\u001b[1;33m    num=float(input(\"Enter a number:\")\u001b[0m\n\u001b[1;37m             ^\u001b[0m\n\u001b[1;31mSyntaxError\u001b[0m\u001b[1;31m:\u001b[0m '(' was never closed\n"
     ]
    }
   ],
   "source": [
    "#Reading numeric inputs\n",
    "num=float(input(\"Enter a number:\")\n",
    "          print(type(num))\n",
    "          print(num)\n",
    "          "
   ]
  },
  {
   "cell_type": "code",
   "execution_count": 19,
   "id": "0c659e41",
   "metadata": {},
   "outputs": [
    {
     "ename": "IndentationError",
     "evalue": "unexpected indent (387588308.py, line 3)",
     "output_type": "error",
     "traceback": [
      "\u001b[1;36m  Cell \u001b[1;32mIn[19], line 3\u001b[1;36m\u001b[0m\n\u001b[1;33m    print(type(num))\u001b[0m\n\u001b[1;37m    ^\u001b[0m\n\u001b[1;31mIndentationError\u001b[0m\u001b[1;31m:\u001b[0m unexpected indent\n"
     ]
    }
   ],
   "source": [
    "#Reading numeric inputs\n",
    "num=float(input(\"Enter a number:\"))\n",
    "          print(type(num))\n",
    "          print(num)"
   ]
  },
  {
   "cell_type": "code",
   "execution_count": 20,
   "id": "ffb46685",
   "metadata": {},
   "outputs": [
    {
     "name": "stdout",
     "output_type": "stream",
     "text": [
      "Enter a number:5\n",
      "<class 'float'>\n",
      "5.0\n"
     ]
    }
   ],
   "source": [
    "#Reading numeric inputs\n",
    "num = float(input(\"Enter a number:\"))\n",
    "print(type(num))\n",
    "print(num)"
   ]
  },
  {
   "cell_type": "code",
   "execution_count": 21,
   "id": "6ab6860f",
   "metadata": {},
   "outputs": [
    {
     "name": "stdout",
     "output_type": "stream",
     "text": [
      "Enter two number: 1 2\n",
      "1 2\n"
     ]
    }
   ],
   "source": [
    "## Taking multiple inputs in a single line\n",
    "x,y = input(\"Enter two number: \").split()\n",
    "print(x,y)"
   ]
  },
  {
   "cell_type": "markdown",
   "id": "6c82c513",
   "metadata": {},
   "source": [
    "## Python Strings"
   ]
  },
  {
   "cell_type": "code",
   "execution_count": 22,
   "id": "7781eb50",
   "metadata": {},
   "outputs": [
    {
     "name": "stdout",
     "output_type": "stream",
     "text": [
      "ML ML\n"
     ]
    }
   ],
   "source": [
    "#single quoted string\n",
    "single = 'ML'\n",
    "#double quated string\n",
    "double = \"ML\"\n",
    "print(single,double)"
   ]
  },
  {
   "cell_type": "code",
   "execution_count": 23,
   "id": "107fb454",
   "metadata": {},
   "outputs": [
    {
     "name": "stdout",
     "output_type": "stream",
     "text": [
      "ML     Cse\n"
     ]
    }
   ],
   "source": [
    "#String concatanation\n",
    "str1 = \"ML\"\n",
    "str2 = \"Cse\"\n",
    "print(str1,'   ',str2)"
   ]
  },
  {
   "cell_type": "code",
   "execution_count": 25,
   "id": "46168a60",
   "metadata": {},
   "outputs": [
    {
     "name": "stdout",
     "output_type": "stream",
     "text": [
      "ML Cse?ML Cse!ML- -CseRoppo"
     ]
    }
   ],
   "source": [
    "print(str1,' ',str2,sep='',end='?')\n",
    "##separated by comma\n",
    "print(str1,' ',str2,sep='',end='!')\n",
    "\n",
    "print(str1,' ',str2,sep='-',end='Roppo')"
   ]
  },
  {
   "cell_type": "code",
   "execution_count": 26,
   "id": "7c40a0fb",
   "metadata": {},
   "outputs": [
    {
     "name": "stdout",
     "output_type": "stream",
     "text": [
      "ML Cse?ML Cse!ML- -CseRoppo"
     ]
    }
   ],
   "source": [
    "print(str1,' ',str2,sep='',end='?')\n",
    "##separated by comma\n",
    "print(str1,' ',str2,sep='',end='!')\n",
    "\n",
    "print(str1,' ',str2,sep='-',end='Roppo')"
   ]
  },
  {
   "cell_type": "code",
   "execution_count": 27,
   "id": "523c230c",
   "metadata": {},
   "outputs": [
    {
     "data": {
      "text/plain": [
       "2"
      ]
     },
     "execution_count": 27,
     "metadata": {},
     "output_type": "execute_result"
    }
   ],
   "source": [
    "#length\n",
    "len(str1)"
   ]
  },
  {
   "cell_type": "code",
   "execution_count": 28,
   "id": "393cc6bc",
   "metadata": {},
   "outputs": [
    {
     "name": "stdout",
     "output_type": "stream",
     "text": [
      "2\n",
      "3\n"
     ]
    }
   ],
   "source": [
    "print(len(str1))\n",
    "print(len(str2))"
   ]
  },
  {
   "cell_type": "code",
   "execution_count": 29,
   "id": "8238dae9",
   "metadata": {},
   "outputs": [
    {
     "name": "stdout",
     "output_type": "stream",
     "text": [
      "2\n",
      "3\n"
     ]
    }
   ],
   "source": [
    "print(len(str1))\n",
    "print(len(str2))"
   ]
  },
  {
   "cell_type": "code",
   "execution_count": 30,
   "id": "642ed08c",
   "metadata": {},
   "outputs": [
    {
     "data": {
      "text/plain": [
       "'L'"
      ]
     },
     "execution_count": 30,
     "metadata": {},
     "output_type": "execute_result"
    }
   ],
   "source": [
    "str1 = \"ML\"\n",
    "str[1]"
   ]
  },
  {
   "cell_type": "code",
   "execution_count": 31,
   "id": "fe185e41",
   "metadata": {},
   "outputs": [
    {
     "data": {
      "text/plain": [
       "'Machi'"
      ]
     },
     "execution_count": 31,
     "metadata": {},
     "output_type": "execute_result"
    }
   ],
   "source": [
    "#String Slicing\n",
    "course_name = \"Machine Learning\"\n",
    "course_name[0:5]"
   ]
  },
  {
   "cell_type": "code",
   "execution_count": 32,
   "id": "aa662fcb",
   "metadata": {},
   "outputs": [
    {
     "data": {
      "text/plain": [
       "'Machine'"
      ]
     },
     "execution_count": 32,
     "metadata": {},
     "output_type": "execute_result"
    }
   ],
   "source": [
    "#String Slicing\n",
    "course_name = \"Machine Learning\"\n",
    "course_name[0:5]\n",
    "course_name[:7]"
   ]
  },
  {
   "cell_type": "code",
   "execution_count": 33,
   "id": "deda5994",
   "metadata": {},
   "outputs": [
    {
     "data": {
      "text/plain": [
       "'MACHINE LEARNING'"
      ]
     },
     "execution_count": 33,
     "metadata": {},
     "output_type": "execute_result"
    }
   ],
   "source": [
    "course_name.upper()"
   ]
  },
  {
   "cell_type": "code",
   "execution_count": 34,
   "id": "515ea43c",
   "metadata": {},
   "outputs": [
    {
     "data": {
      "text/plain": [
       "'machine learning'"
      ]
     },
     "execution_count": 34,
     "metadata": {},
     "output_type": "execute_result"
    }
   ],
   "source": [
    "course_name.lower()"
   ]
  },
  {
   "cell_type": "code",
   "execution_count": 35,
   "id": "f8f61549",
   "metadata": {},
   "outputs": [
    {
     "data": {
      "text/plain": [
       "8"
      ]
     },
     "execution_count": 35,
     "metadata": {},
     "output_type": "execute_result"
    }
   ],
   "source": [
    "course_name.find(\"L\")"
   ]
  },
  {
   "cell_type": "code",
   "execution_count": 36,
   "id": "dc48fa86",
   "metadata": {},
   "outputs": [
    {
     "data": {
      "text/plain": [
       "'asdada asda'"
      ]
     },
     "execution_count": 36,
     "metadata": {},
     "output_type": "execute_result"
    }
   ],
   "source": [
    "test=\"  asdada asda\"\n",
    "test.strip()"
   ]
  },
  {
   "cell_type": "code",
   "execution_count": 38,
   "id": "4ce98e7a",
   "metadata": {},
   "outputs": [
    {
     "name": "stdout",
     "output_type": "stream",
     "text": [
      "[1, 2, 3, 4, 5]\n"
     ]
    }
   ],
   "source": [
    "#create lists\n",
    "numbers = [1,2,3,4,5]\n",
    "names=['alice','Bob','abc']\n",
    "mixed=[1,3,5,'abc']\n",
    "print(numbers)"
   ]
  },
  {
   "cell_type": "code",
   "execution_count": 40,
   "id": "8ce2efdb",
   "metadata": {},
   "outputs": [
    {
     "name": "stdout",
     "output_type": "stream",
     "text": [
      "[1, 2, 3, 4, 5]\n",
      "[1, 3, 5, 'abc']\n",
      "['alice', 'Bob', 'abc']\n"
     ]
    }
   ],
   "source": [
    "#create lists\n",
    "numbers = [1,2,3,4,5]\n",
    "names=['alice','Bob','abc']\n",
    "mixed=[1,3,5,'abc']\n",
    "print(numbers)\n",
    "print(mixed)\n",
    "print(names)"
   ]
  },
  {
   "cell_type": "code",
   "execution_count": 43,
   "id": "6f9d035c",
   "metadata": {},
   "outputs": [],
   "source": [
    "numbers.extend([7,8])"
   ]
  },
  {
   "cell_type": "markdown",
   "id": "c3c8b129",
   "metadata": {},
   "source": [
    "numbers"
   ]
  },
  {
   "cell_type": "code",
   "execution_count": 44,
   "id": "0d248add",
   "metadata": {},
   "outputs": [
    {
     "data": {
      "text/plain": [
       "'5'"
      ]
     },
     "execution_count": 44,
     "metadata": {},
     "output_type": "execute_result"
    }
   ],
   "source": [
    "number"
   ]
  },
  {
   "cell_type": "code",
   "execution_count": 45,
   "id": "9ab0c8f0",
   "metadata": {},
   "outputs": [
    {
     "data": {
      "text/plain": [
       "[1, 2, 3, 4, 5, 7, 8, 7, 8]"
      ]
     },
     "execution_count": 45,
     "metadata": {},
     "output_type": "execute_result"
    }
   ],
   "source": [
    "numbers"
   ]
  },
  {
   "cell_type": "code",
   "execution_count": 46,
   "id": "0a87c19e",
   "metadata": {},
   "outputs": [],
   "source": [
    "numbers.reverse()"
   ]
  },
  {
   "cell_type": "code",
   "execution_count": 47,
   "id": "817a62e9",
   "metadata": {},
   "outputs": [
    {
     "data": {
      "text/plain": [
       "[8, 7, 8, 7, 5, 4, 3, 2, 1]"
      ]
     },
     "execution_count": 47,
     "metadata": {},
     "output_type": "execute_result"
    }
   ],
   "source": [
    "numbers"
   ]
  },
  {
   "cell_type": "code",
   "execution_count": 48,
   "id": "975e569c",
   "metadata": {},
   "outputs": [],
   "source": [
    "numbers.sort()"
   ]
  },
  {
   "cell_type": "code",
   "execution_count": 49,
   "id": "4ca97fb4",
   "metadata": {},
   "outputs": [
    {
     "data": {
      "text/plain": [
       "[1, 2, 3, 4, 5, 7, 7, 8, 8]"
      ]
     },
     "execution_count": 49,
     "metadata": {},
     "output_type": "execute_result"
    }
   ],
   "source": [
    "numbers\n"
   ]
  },
  {
   "cell_type": "code",
   "execution_count": 50,
   "id": "bbb0f7a3",
   "metadata": {},
   "outputs": [
    {
     "data": {
      "text/plain": [
       "range(0, 5)"
      ]
     },
     "execution_count": 50,
     "metadata": {},
     "output_type": "execute_result"
    }
   ],
   "source": [
    "range(5)"
   ]
  },
  {
   "cell_type": "code",
   "execution_count": 1,
   "id": "f497dbed",
   "metadata": {},
   "outputs": [
    {
     "data": {
      "text/plain": [
       "range(1, 5)"
      ]
     },
     "execution_count": 1,
     "metadata": {},
     "output_type": "execute_result"
    }
   ],
   "source": [
    "range(1,5)"
   ]
  },
  {
   "cell_type": "code",
   "execution_count": 3,
   "id": "e6819c74",
   "metadata": {},
   "outputs": [
    {
     "name": "stdout",
     "output_type": "stream",
     "text": [
      "0\n",
      "1\n",
      "2\n",
      "3\n",
      "4\n"
     ]
    }
   ],
   "source": [
    "#show range it will show -1 time such as \n",
    "for i in range(5):\n",
    "   print(i)"
   ]
  },
  {
   "cell_type": "code",
   "execution_count": 4,
   "id": "15fbfb84",
   "metadata": {},
   "outputs": [
    {
     "name": "stdout",
     "output_type": "stream",
     "text": [
      "0\n",
      "1\n",
      "2\n",
      "3\n",
      "4\n",
      "5\n"
     ]
    }
   ],
   "source": [
    "for i in range(6):\n",
    "    print(i)"
   ]
  },
  {
   "cell_type": "code",
   "execution_count": null,
   "id": "c2a33eb3",
   "metadata": {},
   "outputs": [],
   "source": []
  },
  {
   "cell_type": "markdown",
   "id": "d47054f2",
   "metadata": {},
   "source": [
    "## python lists\n"
   ]
  },
  {
   "cell_type": "code",
   "execution_count": 1,
   "id": "0d4e9b95",
   "metadata": {},
   "outputs": [
    {
     "name": "stdout",
     "output_type": "stream",
     "text": [
      "[]\n",
      "0\n",
      "<class 'list'>\n"
     ]
    }
   ],
   "source": [
    "##Creating on empty list\n",
    "empty_list = []\n",
    "print(empty_list)\n",
    "print(len(empty_list))\n",
    "print(type(empty_list))"
   ]
  },
  {
   "cell_type": "code",
   "execution_count": 3,
   "id": "f724f2ac",
   "metadata": {},
   "outputs": [
    {
     "name": "stdout",
     "output_type": "stream",
     "text": [
      "[1, 2, 3]\n",
      "['a', 'b', 'e', 'd']\n",
      "[2, 'e', 5]\n"
     ]
    }
   ],
   "source": [
    "list1=[1,2,3]\n",
    "list2=['a','b','e','d']\n",
    "list3=[2,'e',5]\n",
    "print(list1)\n",
    "print(list2)\n",
    "print(list3)\n"
   ]
  },
  {
   "cell_type": "code",
   "execution_count": 4,
   "id": "b68722a9",
   "metadata": {},
   "outputs": [
    {
     "name": "stdout",
     "output_type": "stream",
     "text": [
      "list[1]\n",
      "list[2]\n"
     ]
    }
   ],
   "source": [
    "#indexing\n",
    "print(list[1])\n",
    "print(list[2])"
   ]
  },
  {
   "cell_type": "code",
   "execution_count": 5,
   "id": "c3327856",
   "metadata": {},
   "outputs": [
    {
     "name": "stdout",
     "output_type": "stream",
     "text": [
      "2\n",
      "e\n"
     ]
    }
   ],
   "source": [
    "#indexing\n",
    "print(list1[1])\n",
    "print(list2[2])"
   ]
  },
  {
   "cell_type": "code",
   "execution_count": 6,
   "id": "fd6b11aa",
   "metadata": {},
   "outputs": [
    {
     "name": "stdout",
     "output_type": "stream",
     "text": [
      "[1, 2, 3, 4]\n",
      "[1, 2, 3]\n",
      "[2, 3, 4]\n",
      "[1, 3, 5]\n"
     ]
    },
    {
     "ename": "NameError",
     "evalue": "name 'commenting' is not defined",
     "output_type": "error",
     "traceback": [
      "\u001b[1;31m---------------------------------------------------------------------------\u001b[0m",
      "\u001b[1;31mNameError\u001b[0m                                 Traceback (most recent call last)",
      "Cell \u001b[1;32mIn[6], line 6\u001b[0m\n\u001b[0;32m      4\u001b[0m \u001b[38;5;28mprint\u001b[39m(num[:\u001b[38;5;241m3\u001b[39m])\n\u001b[0;32m      5\u001b[0m \u001b[38;5;28mprint\u001b[39m(num[\u001b[38;5;241m1\u001b[39m:\u001b[38;5;241m4\u001b[39m])\n\u001b[1;32m----> 6\u001b[0m \u001b[38;5;28mprint\u001b[39m(num[::\u001b[38;5;241m2\u001b[39m]) \u001b[38;5;241m/\u001b[39m\u001b[38;5;241m/\u001b[39mcommenting\n",
      "\u001b[1;31mNameError\u001b[0m: name 'commenting' is not defined"
     ]
    }
   ],
   "source": [
    "#Slicing\n",
    "num=[1,2,3,4,5,6]\n",
    "print(num[0:4])\n",
    "print(num[:3])\n",
    "print(num[1:4])\n",
    "print(num[::2]) #commenting"
   ]
  },
  {
   "cell_type": "code",
   "execution_count": 7,
   "id": "daba0dcb",
   "metadata": {},
   "outputs": [
    {
     "name": "stdout",
     "output_type": "stream",
     "text": [
      "[1, 2, 3, 4]\n",
      "[1, 2, 3]\n",
      "[2, 3, 4]\n",
      "[1, 3, 5]\n"
     ]
    }
   ],
   "source": [
    "#Slicing\n",
    "num=[1,2,3,4,5,6]\n",
    "print(num[0:4])\n",
    "print(num[:3])\n",
    "print(num[1:4])\n",
    "print(num[::2]) #commenting"
   ]
  },
  {
   "cell_type": "code",
   "execution_count": 8,
   "id": "e295930c",
   "metadata": {},
   "outputs": [
    {
     "name": "stdout",
     "output_type": "stream",
     "text": [
      "[1, 2, 3, 4]\n",
      "[1, 2, 3]\n",
      "[2, 3, 4]\n",
      "[1, 3, 5]\n"
     ]
    }
   ],
   "source": [
    "#Slicing\n",
    "num=[1,2,3,4,5,6]\n",
    "print(num[0:4])\n",
    "print(num[:3])\n",
    "print(num[1:4])\n",
    "print(num[::2]) #gap diye slicing"
   ]
  },
  {
   "cell_type": "code",
   "execution_count": 9,
   "id": "16aa92e0",
   "metadata": {},
   "outputs": [
    {
     "data": {
      "text/plain": [
       "[1, 2, 3, 4, 5, 6, 7]"
      ]
     },
     "execution_count": 9,
     "metadata": {},
     "output_type": "execute_result"
    }
   ],
   "source": [
    "#list operation\n",
    "num.append(7)\n",
    "num"
   ]
  },
  {
   "cell_type": "code",
   "execution_count": 10,
   "id": "e982fac2",
   "metadata": {},
   "outputs": [
    {
     "data": {
      "text/plain": [
       "[1, 2, 3, 4, 5, 6]"
      ]
     },
     "execution_count": 10,
     "metadata": {},
     "output_type": "execute_result"
    }
   ],
   "source": [
    "num.remove(7)\n",
    "num"
   ]
  },
  {
   "cell_type": "code",
   "execution_count": 12,
   "id": "a9bdfd73",
   "metadata": {},
   "outputs": [
    {
     "ename": "ValueError",
     "evalue": "list.remove(x): x not in list",
     "output_type": "error",
     "traceback": [
      "\u001b[1;31m---------------------------------------------------------------------------\u001b[0m",
      "\u001b[1;31mValueError\u001b[0m                                Traceback (most recent call last)",
      "Cell \u001b[1;32mIn[12], line 1\u001b[0m\n\u001b[1;32m----> 1\u001b[0m num\u001b[38;5;241m.\u001b[39mremove(\u001b[38;5;241m7\u001b[39m)\n\u001b[0;32m      2\u001b[0m num\n",
      "\u001b[1;31mValueError\u001b[0m: list.remove(x): x not in list"
     ]
    }
   ],
   "source": [
    "num.remove(7)\n",
    "num"
   ]
  },
  {
   "cell_type": "code",
   "execution_count": 13,
   "id": "327def03",
   "metadata": {},
   "outputs": [
    {
     "data": {
      "text/plain": [
       "[1, 2, 3, 4, 5, 6, 7, 8]"
      ]
     },
     "execution_count": 13,
     "metadata": {},
     "output_type": "execute_result"
    }
   ],
   "source": [
    "num.extend([7,8])\n",
    "num"
   ]
  },
  {
   "cell_type": "code",
   "execution_count": 14,
   "id": "e301885f",
   "metadata": {},
   "outputs": [
    {
     "data": {
      "text/plain": [
       "8"
      ]
     },
     "execution_count": 14,
     "metadata": {},
     "output_type": "execute_result"
    }
   ],
   "source": [
    "num.pop()\n"
   ]
  },
  {
   "cell_type": "code",
   "execution_count": 15,
   "id": "874437ab",
   "metadata": {},
   "outputs": [
    {
     "data": {
      "text/plain": [
       "[1, 2, 3, 4, 5, 6, 7]"
      ]
     },
     "execution_count": 15,
     "metadata": {},
     "output_type": "execute_result"
    }
   ],
   "source": [
    "num"
   ]
  },
  {
   "cell_type": "code",
   "execution_count": 16,
   "id": "c9e9bbb5",
   "metadata": {},
   "outputs": [
    {
     "data": {
      "text/plain": [
       "7"
      ]
     },
     "execution_count": 16,
     "metadata": {},
     "output_type": "execute_result"
    }
   ],
   "source": [
    "len(num)"
   ]
  },
  {
   "cell_type": "markdown",
   "id": "b461df4d",
   "metadata": {},
   "source": [
    "## For Loop\n"
   ]
  },
  {
   "cell_type": "code",
   "execution_count": 17,
   "id": "5c3212fb",
   "metadata": {},
   "outputs": [
    {
     "data": {
      "text/plain": [
       "range(0, 3)"
      ]
     },
     "execution_count": 17,
     "metadata": {},
     "output_type": "execute_result"
    }
   ],
   "source": [
    "##Understanding Range\n",
    "range(3)"
   ]
  },
  {
   "cell_type": "code",
   "execution_count": 18,
   "id": "3adfa3b8",
   "metadata": {},
   "outputs": [
    {
     "data": {
      "text/plain": [
       "range(1, 3)"
      ]
     },
     "execution_count": 18,
     "metadata": {},
     "output_type": "execute_result"
    }
   ],
   "source": [
    "range(1,3)"
   ]
  },
  {
   "cell_type": "code",
   "execution_count": 19,
   "id": "8cae0cab",
   "metadata": {},
   "outputs": [
    {
     "name": "stdout",
     "output_type": "stream",
     "text": [
      "0\n",
      "1\n",
      "2\n",
      "3\n",
      "4\n"
     ]
    }
   ],
   "source": [
    "# For loop Syntex\n",
    "for i in range(5):\n",
    "    print(i)"
   ]
  },
  {
   "cell_type": "code",
   "execution_count": 20,
   "id": "68d3ffe8",
   "metadata": {},
   "outputs": [
    {
     "name": "stdout",
     "output_type": "stream",
     "text": [
      "1\n",
      "2\n",
      "3\n",
      "4\n",
      "5\n"
     ]
    }
   ],
   "source": [
    "for j in range(1,6):\n",
    "    print(j)"
   ]
  },
  {
   "cell_type": "code",
   "execution_count": 21,
   "id": "9671beaf",
   "metadata": {},
   "outputs": [
    {
     "name": "stdout",
     "output_type": "stream",
     "text": [
      "1\n",
      "3\n",
      "5\n",
      "7\n",
      "9\n"
     ]
    }
   ],
   "source": [
    "for i in range(1,11,2):\n",
    "    print(i)"
   ]
  },
  {
   "cell_type": "code",
   "execution_count": 22,
   "id": "41b3218c",
   "metadata": {},
   "outputs": [
    {
     "name": "stdout",
     "output_type": "stream",
     "text": [
      "apple\n",
      "banana\n",
      "cherry\n"
     ]
    }
   ],
   "source": [
    "#looping with list\n",
    "fruits = [\"apple\",\"banana\",\"cherry\"]\n",
    "for i in fruits:\n",
    "    print(i)"
   ]
  },
  {
   "cell_type": "code",
   "execution_count": 23,
   "id": "9b63864b",
   "metadata": {},
   "outputs": [
    {
     "ename": "NameError",
     "evalue": "name 'student' is not defined",
     "output_type": "error",
     "traceback": [
      "\u001b[1;31m---------------------------------------------------------------------------\u001b[0m",
      "\u001b[1;31mNameError\u001b[0m                                 Traceback (most recent call last)",
      "Cell \u001b[1;32mIn[23], line 2\u001b[0m\n\u001b[0;32m      1\u001b[0m students\u001b[38;5;241m=\u001b[39m[\u001b[38;5;124m\"\u001b[39m\u001b[38;5;124mjon doe\u001b[39m\u001b[38;5;124m\"\u001b[39m,\u001b[38;5;124m\"\u001b[39m\u001b[38;5;124mkarim\u001b[39m\u001b[38;5;124m\"\u001b[39m,\u001b[38;5;124m\"\u001b[39m\u001b[38;5;124mhasan\u001b[39m\u001b[38;5;124m\"\u001b[39m,\u001b[38;5;124m\"\u001b[39m\u001b[38;5;124mihsanul\u001b[39m\u001b[38;5;124m\"\u001b[39m]\n\u001b[1;32m----> 2\u001b[0m \u001b[38;5;28;01mfor\u001b[39;00m name \u001b[38;5;129;01min\u001b[39;00m student:\n\u001b[0;32m      3\u001b[0m     \u001b[38;5;28mprint\u001b[39m(\u001b[38;5;124m'\u001b[39m\u001b[38;5;124mHi!\u001b[39m\u001b[38;5;124m'\u001b[39m,name)\n",
      "\u001b[1;31mNameError\u001b[0m: name 'student' is not defined"
     ]
    }
   ],
   "source": [
    "students=[\"jon doe\",\"karim\",\"hasan\",\"ihsanul\"]\n",
    "for name in student:\n",
    "    print('Hi!',name)"
   ]
  },
  {
   "cell_type": "code",
   "execution_count": 25,
   "id": "5010da45",
   "metadata": {},
   "outputs": [
    {
     "ename": "NameError",
     "evalue": "name 'student' is not defined",
     "output_type": "error",
     "traceback": [
      "\u001b[1;31m---------------------------------------------------------------------------\u001b[0m",
      "\u001b[1;31mNameError\u001b[0m                                 Traceback (most recent call last)",
      "Cell \u001b[1;32mIn[25], line 2\u001b[0m\n\u001b[0;32m      1\u001b[0m students\u001b[38;5;241m=\u001b[39m[\u001b[38;5;124m'\u001b[39m\u001b[38;5;124mjon doe\u001b[39m\u001b[38;5;124m'\u001b[39m,\u001b[38;5;124m'\u001b[39m\u001b[38;5;124mkarim\u001b[39m\u001b[38;5;124m'\u001b[39m,\u001b[38;5;124m'\u001b[39m\u001b[38;5;124mhasan\u001b[39m\u001b[38;5;124m'\u001b[39m,\u001b[38;5;124m'\u001b[39m\u001b[38;5;124mihsanul\u001b[39m\u001b[38;5;124m'\u001b[39m]\n\u001b[1;32m----> 2\u001b[0m \u001b[38;5;28;01mfor\u001b[39;00m name \u001b[38;5;129;01min\u001b[39;00m student:\n\u001b[0;32m      3\u001b[0m     \u001b[38;5;28mprint\u001b[39m(\u001b[38;5;124m'\u001b[39m\u001b[38;5;124mHi!,\u001b[39m\u001b[38;5;124m'\u001b[39m,name)\n",
      "\u001b[1;31mNameError\u001b[0m: name 'student' is not defined"
     ]
    }
   ],
   "source": [
    "students=['jon doe','karim','hasan','ihsanul']\n",
    "for name in student:\n",
    "    print('Hi!,',name)"
   ]
  },
  {
   "cell_type": "code",
   "execution_count": 26,
   "id": "bd710a13",
   "metadata": {},
   "outputs": [
    {
     "ename": "NameError",
     "evalue": "name 'student' is not defined",
     "output_type": "error",
     "traceback": [
      "\u001b[1;31m---------------------------------------------------------------------------\u001b[0m",
      "\u001b[1;31mNameError\u001b[0m                                 Traceback (most recent call last)",
      "Cell \u001b[1;32mIn[26], line 2\u001b[0m\n\u001b[0;32m      1\u001b[0m students\u001b[38;5;241m=\u001b[39m[\u001b[38;5;124m'\u001b[39m\u001b[38;5;124mjon doe\u001b[39m\u001b[38;5;124m'\u001b[39m,\u001b[38;5;124m'\u001b[39m\u001b[38;5;124mkarim\u001b[39m\u001b[38;5;124m'\u001b[39m,\u001b[38;5;124m'\u001b[39m\u001b[38;5;124mhasan\u001b[39m\u001b[38;5;124m'\u001b[39m,\u001b[38;5;124m'\u001b[39m\u001b[38;5;124mihsanul\u001b[39m\u001b[38;5;124m'\u001b[39m]\n\u001b[1;32m----> 2\u001b[0m \u001b[38;5;28;01mfor\u001b[39;00m name \u001b[38;5;129;01min\u001b[39;00m student:\n\u001b[0;32m      3\u001b[0m     \u001b[38;5;28mprint\u001b[39m(\u001b[38;5;124m'\u001b[39m\u001b[38;5;124mHi!,\u001b[39m\u001b[38;5;124m'\u001b[39m,name)\n",
      "\u001b[1;31mNameError\u001b[0m: name 'student' is not defined"
     ]
    }
   ],
   "source": [
    "students=['jon doe','karim','hasan','ihsanul']\n",
    "for name in students:\n",
    "    print('Hi!,',name)"
   ]
  },
  {
   "cell_type": "code",
   "execution_count": 28,
   "id": "d7a82d9a",
   "metadata": {},
   "outputs": [
    {
     "name": "stdout",
     "output_type": "stream",
     "text": [
      "Hi!, jon doe\n",
      "Hi!, karim\n",
      "Hi!, hasan\n",
      "Hi!, ihsanul\n"
     ]
    }
   ],
   "source": [
    "students=['jon doe','karim','hasan','ihsanul']\n",
    "for name in students:\n",
    "    print('Hi!,',name)"
   ]
  },
  {
   "cell_type": "code",
   "execution_count": 29,
   "id": "9dad0486",
   "metadata": {},
   "outputs": [
    {
     "name": "stdout",
     "output_type": "stream",
     "text": [
      "student 0 : jon doe\n",
      "student 1 : karim\n",
      "student 2 : hasan\n",
      "student 3 : ihsanul\n"
     ]
    }
   ],
   "source": [
    "#using Enumeratre with for loop\n",
    "for index,name in enumerate(students):\n",
    "    print('student',index,':',name)"
   ]
  },
  {
   "cell_type": "code",
   "execution_count": 30,
   "id": "a6bdf500",
   "metadata": {},
   "outputs": [
    {
     "name": "stdout",
     "output_type": "stream",
     "text": [
      "0\n",
      "1\n",
      "2\n",
      "3\n"
     ]
    }
   ],
   "source": [
    "#using len\n",
    "for i in range(len(students)):\n",
    "    print(i)"
   ]
  },
  {
   "cell_type": "code",
   "execution_count": 31,
   "id": "9cc21914",
   "metadata": {},
   "outputs": [
    {
     "ename": "NameError",
     "evalue": "name 'bmi_values' is not defined",
     "output_type": "error",
     "traceback": [
      "\u001b[1;31m---------------------------------------------------------------------------\u001b[0m",
      "\u001b[1;31mNameError\u001b[0m                                 Traceback (most recent call last)",
      "Cell \u001b[1;32mIn[31], line 8\u001b[0m\n\u001b[0;32m      6\u001b[0m \u001b[38;5;28;01mfor\u001b[39;00m i \u001b[38;5;129;01min\u001b[39;00m \u001b[38;5;28mrange\u001b[39m(\u001b[38;5;28mlen\u001b[39m(heights)):\n\u001b[0;32m      7\u001b[0m     bmi\u001b[38;5;241m=\u001b[39m\u001b[38;5;28mround\u001b[39m(weights[i]\u001b[38;5;241m/\u001b[39mheights[i]\u001b[38;5;241m*\u001b[39m\u001b[38;5;241m*\u001b[39m\u001b[38;5;241m2\u001b[39m,\u001b[38;5;241m2\u001b[39m)\n\u001b[1;32m----> 8\u001b[0m     bmi_values\u001b[38;5;241m.\u001b[39mappend(bmi)\n\u001b[0;32m      9\u001b[0m \u001b[38;5;28mprint\u001b[39m(bmi_value)\n",
      "\u001b[1;31mNameError\u001b[0m: name 'bmi_values' is not defined"
     ]
    }
   ],
   "source": [
    "# Appending list\n",
    "heights = [1.75,1.68,1.80,1.60]\n",
    "weights = [68,71,85,59]\n",
    "bmi = []\n",
    "#calculation\n",
    "for i in range(len(heights)):\n",
    "    bmi=round((weights[i]/heights[i]**2,2))\n",
    "    bmi_values.append(bmi)\n",
    "print(bmi_value)"
   ]
  },
  {
   "cell_type": "code",
   "execution_count": 33,
   "id": "e6fd9077",
   "metadata": {},
   "outputs": [
    {
     "ename": "TypeError",
     "evalue": "type tuple doesn't define __round__ method",
     "output_type": "error",
     "traceback": [
      "\u001b[1;31m---------------------------------------------------------------------------\u001b[0m",
      "\u001b[1;31mTypeError\u001b[0m                                 Traceback (most recent call last)",
      "Cell \u001b[1;32mIn[33], line 7\u001b[0m\n\u001b[0;32m      5\u001b[0m \u001b[38;5;66;03m#calculation\u001b[39;00m\n\u001b[0;32m      6\u001b[0m \u001b[38;5;28;01mfor\u001b[39;00m i \u001b[38;5;129;01min\u001b[39;00m \u001b[38;5;28mrange\u001b[39m(\u001b[38;5;28mlen\u001b[39m(heights)):\n\u001b[1;32m----> 7\u001b[0m     bmi\u001b[38;5;241m=\u001b[39m\u001b[38;5;28mround\u001b[39m((weights[i]\u001b[38;5;241m/\u001b[39mheights[i]\u001b[38;5;241m*\u001b[39m\u001b[38;5;241m*\u001b[39m\u001b[38;5;241m2\u001b[39m,\u001b[38;5;241m2\u001b[39m))\n\u001b[0;32m      8\u001b[0m     bmi_values\u001b[38;5;241m.\u001b[39mappend(bmi)\n\u001b[0;32m      9\u001b[0m \u001b[38;5;28mprint\u001b[39m(bmi_value)\n",
      "\u001b[1;31mTypeError\u001b[0m: type tuple doesn't define __round__ method"
     ]
    }
   ],
   "source": [
    "# Appending list\n",
    "heights = [1.75,1.68,1.80,1.60]\n",
    "weights = [68,71,85,59]\n",
    "bmi = []\n",
    "#calculation\n",
    "for i in range(len(heights)):\n",
    "    bmi=round((weights[i]/heights[i]**2,2))\n",
    "    bmi_values.append(bmi)\n",
    "print(bmi_value)"
   ]
  },
  {
   "cell_type": "markdown",
   "id": "ed667092",
   "metadata": {},
   "source": [
    "## While Loop"
   ]
  },
  {
   "cell_type": "code",
   "execution_count": 35,
   "id": "4c593fcd",
   "metadata": {},
   "outputs": [
    {
     "name": "stdout",
     "output_type": "stream",
     "text": [
      "1\n",
      "2\n",
      "3\n",
      "4\n",
      "5\n"
     ]
    }
   ],
   "source": [
    "i=1\n",
    "while i<=5:\n",
    "    print(i)\n",
    "    i+=1"
   ]
  },
  {
   "cell_type": "markdown",
   "id": "10d71e4f",
   "metadata": {},
   "source": [
    "## Python Tuple"
   ]
  },
  {
   "cell_type": "code",
   "execution_count": 36,
   "id": "ecbe31f0",
   "metadata": {},
   "outputs": [],
   "source": [
    "#ordered\n",
    "#unchangeable\n",
    "#allow duplicate\n",
    "#data type 'tuple'"
   ]
  },
  {
   "cell_type": "code",
   "execution_count": 31,
   "id": "3c01fd35",
   "metadata": {},
   "outputs": [
    {
     "name": "stdout",
     "output_type": "stream",
     "text": [
      "()\n",
      "<class 'tuple'>\n",
      "0\n"
     ]
    }
   ],
   "source": [
    "empty_tup=()\n",
    "print(empty_tup)\n",
    "print(type(empty_tup))\n",
    "print(len(empty_tup))"
   ]
  },
  {
   "cell_type": "code",
   "execution_count": 35,
   "id": "a6583d77",
   "metadata": {},
   "outputs": [
    {
     "name": "stdout",
     "output_type": "stream",
     "text": [
      "(1, 2, 3, True, 'Hi')\n",
      "(1, 2, 3, True, 'Hi')\n"
     ]
    }
   ],
   "source": [
    "#accessing taple items\n",
    "my_tuple = (1,2,3,True,'Hi')\n",
    "print(my_tuple)\n",
    "print(my_tuple)"
   ]
  },
  {
   "cell_type": "code",
   "execution_count": 41,
   "id": "dd96b12a",
   "metadata": {},
   "outputs": [
    {
     "name": "stdout",
     "output_type": "stream",
     "text": [
      "1\n",
      "2\n",
      "3\n"
     ]
    }
   ],
   "source": [
    "##Unpaking tuple\n",
    "my_tuple=(1,2,3)\n",
    "x,y,z=my_tuple\n",
    "print(x)\n",
    "print(y)\n",
    "print(z)"
   ]
  },
  {
   "cell_type": "markdown",
   "id": "432b4e0d",
   "metadata": {},
   "source": [
    "### Python Set"
   ]
  },
  {
   "cell_type": "code",
   "execution_count": 40,
   "id": "da71eeb9",
   "metadata": {},
   "outputs": [],
   "source": [
    "#unordered\n",
    "#unchangble\n",
    "#do not allow duplicates\n",
    "#data type 'set'\n"
   ]
  },
  {
   "cell_type": "code",
   "execution_count": 41,
   "id": "ba566d57",
   "metadata": {},
   "outputs": [
    {
     "name": "stdout",
     "output_type": "stream",
     "text": [
      "{1, 2, 3}\n",
      "<class 'set'>\n"
     ]
    }
   ],
   "source": [
    "set1={1,2,3}\n",
    "print(set1)\n",
    "print(type(set1))"
   ]
  },
  {
   "cell_type": "markdown",
   "id": "826f7721",
   "metadata": {},
   "source": [
    "## python dictionary\n",
    "key : value pair structure\n",
    "ordered(from python version 3.7)\n",
    "changable\n",
    "do not allow duplicate\n"
   ]
  },
  {
   "cell_type": "code",
   "execution_count": 21,
   "id": "b1b02f48",
   "metadata": {},
   "outputs": [
    {
     "data": {
      "text/plain": [
       "{'name': ['jon snow', 'ihsanul haque', 'mark'],\n",
       " 'cgpa': [3.3, 5.2, 4.5],\n",
       " 'address': ['USA', 'Bangladesh', 'UK']}"
      ]
     },
     "execution_count": 21,
     "metadata": {},
     "output_type": "execute_result"
    }
   ],
   "source": [
    "#list values with dictonary\n",
    "students={\n",
    "    'name':['jon snow','ihsanul haque','mark'],\n",
    "    'cgpa':[3.3,5.2,4.5],\n",
    "    'address':['USA','Bangladesh','UK']\n",
    "}\n",
    "students"
   ]
  },
  {
   "cell_type": "code",
   "execution_count": 43,
   "id": "09e11210",
   "metadata": {},
   "outputs": [
    {
     "data": {
      "text/plain": [
       "['jon snow', 'ihsanul haque', 'mark']"
      ]
     },
     "execution_count": 43,
     "metadata": {},
     "output_type": "execute_result"
    }
   ],
   "source": [
    "students['name']"
   ]
  },
  {
   "cell_type": "code",
   "execution_count": 44,
   "id": "05c52bbe",
   "metadata": {},
   "outputs": [
    {
     "name": "stdout",
     "output_type": "stream",
     "text": [
      "jon snow\n",
      "ihsanul haque\n",
      "mark\n"
     ]
    }
   ],
   "source": [
    "for name in students['name']:\n",
    "    print(name)"
   ]
  },
  {
   "cell_type": "code",
   "execution_count": 45,
   "id": "64c26e88",
   "metadata": {},
   "outputs": [],
   "source": [
    "# add element to a dict \n",
    "students['major']=['politics','Bnp','Bal']"
   ]
  },
  {
   "cell_type": "code",
   "execution_count": 46,
   "id": "dfb19e4f",
   "metadata": {},
   "outputs": [
    {
     "data": {
      "text/plain": [
       "{'name': ['jon snow', 'ihsanul haque', 'mark'],\n",
       " 'cgpa': [3.3, 5.2, 4.5],\n",
       " 'address': ['USA', 'Bangladesh', 'UK'],\n",
       " 'major': ['politics', 'Bnp', 'Bal']}"
      ]
     },
     "execution_count": 46,
     "metadata": {},
     "output_type": "execute_result"
    }
   ],
   "source": [
    "students"
   ]
  },
  {
   "cell_type": "code",
   "execution_count": 47,
   "id": "ffb2366e",
   "metadata": {},
   "outputs": [],
   "source": [
    "#Removing \n",
    "del students['major']"
   ]
  },
  {
   "cell_type": "code",
   "execution_count": 48,
   "id": "a1389bcc",
   "metadata": {},
   "outputs": [
    {
     "data": {
      "text/plain": [
       "{'name': ['jon snow', 'ihsanul haque', 'mark'],\n",
       " 'cgpa': [3.3, 5.2, 4.5],\n",
       " 'address': ['USA', 'Bangladesh', 'UK']}"
      ]
     },
     "execution_count": 48,
     "metadata": {},
     "output_type": "execute_result"
    }
   ],
   "source": [
    "students"
   ]
  },
  {
   "cell_type": "code",
   "execution_count": 24,
   "id": "2f0ac906",
   "metadata": {},
   "outputs": [],
   "source": [
    "#dictonary methods\n",
    "key=students.keys()\n",
    "value=students.values()\n",
    "items=students.items()"
   ]
  },
  {
   "cell_type": "code",
   "execution_count": 25,
   "id": "53688944",
   "metadata": {},
   "outputs": [
    {
     "name": "stdout",
     "output_type": "stream",
     "text": [
      "dict_values([['jon snow', 'ihsanul haque', 'mark'], [3.3, 5.2, 4.5], ['USA', 'Bangladesh', 'UK']])\n"
     ]
    }
   ],
   "source": [
    "print(value)"
   ]
  },
  {
   "cell_type": "markdown",
   "id": "e38823a5",
   "metadata": {},
   "source": [
    "### Conditiona Statement"
   ]
  },
  {
   "cell_type": "code",
   "execution_count": 18,
   "id": "42049548",
   "metadata": {},
   "outputs": [
    {
     "ename": "SyntaxError",
     "evalue": "invalid syntax (1805899246.py, line 4)",
     "output_type": "error",
     "traceback": [
      "\u001b[1;36m  Cell \u001b[1;32mIn[18], line 4\u001b[1;36m\u001b[0m\n\u001b[1;33m    elseif a > 5:\u001b[0m\n\u001b[1;37m           ^\u001b[0m\n\u001b[1;31mSyntaxError\u001b[0m\u001b[1;31m:\u001b[0m invalid syntax\n"
     ]
    }
   ],
   "source": [
    "a = 8\n",
    "if a > 10:\n",
    "    print('a is greater than 10')\n",
    "    elif a > 5:\n",
    "    print('a is grater than 5 but not a greater than 10')\n",
    "    else:\n",
    "    print('a is not greater than 5')\n",
    "    \n",
    "    \n",
    "    ##  See if we dont maintain line then our code will not execude "
   ]
  },
  {
   "cell_type": "code",
   "execution_count": 57,
   "id": "824a1767",
   "metadata": {},
   "outputs": [
    {
     "name": "stdout",
     "output_type": "stream",
     "text": [
      "a is grater than 5 but not a greater than 10\n"
     ]
    }
   ],
   "source": [
    "a = 8\n",
    "if a > 10:\n",
    "    print('a is greater than 10')\n",
    "elif a > 5:\n",
    "    print('a is grater than 5 but not a greater than 10')\n",
    "else:\n",
    "    print('a is not greater than 5')"
   ]
  },
  {
   "cell_type": "code",
   "execution_count": 58,
   "id": "7b5f97f5",
   "metadata": {},
   "outputs": [
    {
     "name": "stdout",
     "output_type": "stream",
     "text": [
      "a is grater than 5 but not a greater than 10\n"
     ]
    }
   ],
   "source": [
    "a = 8\n",
    "if a > 10:\n",
    "    print('a is greater than 10')\n",
    "elif a > 5:\n",
    "    print('a is grater than 5 but not a greater than 10')\n",
    "else:\n",
    "    print('a is not greater than 5')"
   ]
  },
  {
   "cell_type": "markdown",
   "id": "c4e789ac",
   "metadata": {},
   "source": [
    "## Python Functions\n"
   ]
  },
  {
   "cell_type": "code",
   "execution_count": 59,
   "id": "99df79bb",
   "metadata": {},
   "outputs": [
    {
     "name": "stdout",
     "output_type": "stream",
     "text": [
      "Hi there!\n"
     ]
    }
   ],
   "source": [
    "def greet():\n",
    "    print(\"Hi there!\")\n",
    "greet()"
   ]
  },
  {
   "cell_type": "code",
   "execution_count": 65,
   "id": "63505e50",
   "metadata": {},
   "outputs": [
    {
     "name": "stdout",
     "output_type": "stream",
     "text": [
      "[22.2, 25.16, 26.23, 23.05]\n"
     ]
    }
   ],
   "source": [
    "# Appending list\n",
    "heights = [1.75,1.68,1.80,1.60]\n",
    "weights = [68,71,85,59]\n",
    "bmi_values = []\n",
    "#function for calculating BMI\n",
    "def BMI(height,weight):\n",
    "    return round(weights[i]/(heights[i]**2),2)\n",
    "#calculation\n",
    "for i in range(len(heights)):\n",
    "    bmi = BMI(heights[i],weights[i])\n",
    "    bmi_values.append(bmi)\n",
    "print(bmi_values)"
   ]
  },
  {
   "cell_type": "markdown",
   "id": "d65d7c16",
   "metadata": {},
   "source": [
    "## Variable Scope\n"
   ]
  },
  {
   "cell_type": "code",
   "execution_count": 15,
   "id": "5c5afe5d",
   "metadata": {},
   "outputs": [
    {
     "name": "stdout",
     "output_type": "stream",
     "text": [
      "local variable:5\n",
      "Global variable:10\n"
     ]
    }
   ],
   "source": [
    "# Global Var\n",
    "global_var=10\n",
    "#function accessing global variable\n",
    "def my_func():\n",
    "    local_var=5\n",
    "    print(f\"local variable:{local_var}\")\n",
    "    print(f\"Global variable:{global_var}\")\n",
    "my_func()"
   ]
  },
  {
   "cell_type": "code",
   "execution_count": null,
   "id": "39cade41",
   "metadata": {},
   "outputs": [],
   "source": []
  }
 ],
 "metadata": {
  "kernelspec": {
   "display_name": "Python 3 (ipykernel)",
   "language": "python",
   "name": "python3"
  },
  "language_info": {
   "codemirror_mode": {
    "name": "ipython",
    "version": 3
   },
   "file_extension": ".py",
   "mimetype": "text/x-python",
   "name": "python",
   "nbconvert_exporter": "python",
   "pygments_lexer": "ipython3",
   "version": "3.11.5"
  }
 },
 "nbformat": 4,
 "nbformat_minor": 5
}
